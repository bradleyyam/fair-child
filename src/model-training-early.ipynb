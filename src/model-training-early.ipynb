{
 "cells": [
  {
   "cell_type": "markdown",
   "metadata": {},
   "source": [
    "# Setup"
   ]
  },
  {
   "cell_type": "code",
   "execution_count": 1,
   "metadata": {},
   "outputs": [
    {
     "name": "stdout",
     "output_type": "stream",
     "text": [
      "INFO:tensorflow:Enabling eager execution\n",
      "INFO:tensorflow:Enabling v2 tensorshape\n",
      "INFO:tensorflow:Enabling resource variables\n",
      "INFO:tensorflow:Enabling tensor equality\n",
      "INFO:tensorflow:Enabling control flow v2\n"
     ]
    }
   ],
   "source": [
    "import gc\n",
    "import numpy as np\n",
    "import os\n",
    "import sklearn.metrics\n",
    "import tensorflow as tf\n",
    "\n",
    "import models\n",
    "import util\n",
    "\n",
    "SEED = 2021\n",
    "np.random.seed(SEED)\n",
    "tf.random.set_seed(SEED)\n",
    "\n",
    "# Stay in top-level directory for consistency\n",
    "if '/src' in os.getcwd():\n",
    "    os.chdir('..')"
   ]
  },
  {
   "cell_type": "code",
   "execution_count": 2,
   "metadata": {},
   "outputs": [
    {
     "name": "stdout",
     "output_type": "stream",
     "text": [
      "Loading train data for stillbirth...\n",
      "\tdone.\n",
      "Loading test data for stillbirth...\n",
      "\tdone.\n",
      "Loading val data for stillbirth...\n",
      "\tdone.\n"
     ]
    },
    {
     "data": {
      "text/plain": "0"
     },
     "execution_count": 2,
     "metadata": {},
     "output_type": "execute_result"
    }
   ],
   "source": [
    "# Load data\n",
    "xtrain, ytrain, xtest, ytest, xval, yval = util.load_preg_data_final(datafile='stillbirth')\n",
    "# Convert class labels to binary labels\n",
    "ytrain = util.outcome_to_binary(ytrain, outcome='early stillbirth')  # Choose between early stillbirth, late stillbirth, and preterm\n",
    "ytest = util.outcome_to_binary(ytest, outcome='early stillbirth')\n",
    "yval = util.outcome_to_binary(yval, outcome='early stillbirth')\n",
    "\n",
    "# Don't keep the vars we won't use in this notebook, for memory reasons\n",
    "gc.collect()"
   ]
  },
  {
   "cell_type": "code",
   "execution_count": 3,
   "metadata": {},
   "outputs": [
    {
     "data": {
      "text/plain": "count    9.810617e+06\nmean     2.862361e+01\nstd      5.704697e+00\nmin      1.800000e+01\n25%      2.400000e+01\n50%      2.900000e+01\n75%      3.300000e+01\nmax      5.000000e+01\nName: Age, dtype: float64"
     },
     "metadata": {},
     "output_type": "display_data"
    },
    {
     "data": {
      "text/plain": "count    9.810617e+06\nmean    -3.676231e-03\nstd      9.918322e-01\nmin     -4.680834e-01\n25%     -4.680834e-01\n50%     -4.680834e-01\n75%      6.693553e-01\nmax      3.365508e+01\nName: PrevTerminations, dtype: float64"
     },
     "metadata": {},
     "output_type": "display_data"
    },
    {
     "data": {
      "text/plain": "count    9.810617e+06\nmean     4.159396e-01\nstd      4.928832e-01\nmin      0.000000e+00\n25%      0.000000e+00\n50%      0.000000e+00\n75%      1.000000e+00\nmax      1.000000e+00\nName: WIC, dtype: float64"
     },
     "metadata": {},
     "output_type": "display_data"
    },
    {
     "data": {
      "text/plain": "count    9.810617e+06\nmean     2.963197e-03\nstd      1.004297e+00\nmin     -2.651162e-01\n25%     -2.651162e-01\n50%     -2.651162e-01\n75%     -2.651162e-01\nmax      1.883936e+01\nName: PrepregnancySmoking, dtype: float64"
     },
     "metadata": {},
     "output_type": "display_data"
    },
    {
     "data": {
      "text/plain": "count    9.810617e+06\nmean    -8.157142e-04\nstd      9.993250e-01\nmin     -2.075606e+00\n25%     -7.249668e-01\n50%     -2.393437e-01\n75%      5.042666e-01\nmax      6.407622e+00\nName: BMI, dtype: float64"
     },
     "metadata": {},
     "output_type": "display_data"
    },
    {
     "data": {
      "text/plain": "count    9.810617e+06\nmean    -8.810375e-04\nstd      9.979819e-01\nmin     -1.059895e+01\n25%     -7.655846e-01\n50%     -6.320109e-02\n75%      6.391824e-01\nmax      4.853484e+00\nName: Height, dtype: float64"
     },
     "metadata": {},
     "output_type": "display_data"
    },
    {
     "data": {
      "text/plain": "count    9.810617e+06\nmean    -9.134448e-05\nstd      9.930383e-01\nmin     -1.668552e+00\n25%     -8.833965e-01\n50%     -9.824141e-02\n75%      6.869137e-01\nmax      4.612689e+00\nName: Parity, dtype: float64"
     },
     "metadata": {},
     "output_type": "display_data"
    },
    {
     "data": {
      "text/plain": "count    9.810617e+06\nmean     8.175225e-03\nstd      9.004661e-02\nmin      0.000000e+00\n25%      0.000000e+00\n50%      0.000000e+00\n75%      0.000000e+00\nmax      1.000000e+00\nName: PrepregnancyDiabetes, dtype: float64"
     },
     "metadata": {},
     "output_type": "display_data"
    },
    {
     "data": {
      "text/plain": "count    9.810617e+06\nmean     5.708285e-02\nstd      2.320009e-01\nmin      0.000000e+00\n25%      0.000000e+00\n50%      0.000000e+00\n75%      0.000000e+00\nmax      1.000000e+00\nName: GestationalDiabetes, dtype: float64"
     },
     "metadata": {},
     "output_type": "display_data"
    },
    {
     "data": {
      "text/plain": "count    9.810617e+06\nmean     1.645972e-02\nstd      1.272352e-01\nmin      0.000000e+00\n25%      0.000000e+00\n50%      0.000000e+00\n75%      0.000000e+00\nmax      1.000000e+00\nName: PrepregnancyHypertension, dtype: float64"
     },
     "metadata": {},
     "output_type": "display_data"
    },
    {
     "data": {
      "text/plain": "count    9.810617e+06\nmean     5.456293e-02\nstd      2.271251e-01\nmin      0.000000e+00\n25%      0.000000e+00\n50%      0.000000e+00\n75%      0.000000e+00\nmax      1.000000e+00\nName: GestationalHypertension, dtype: float64"
     },
     "metadata": {},
     "output_type": "display_data"
    },
    {
     "data": {
      "text/plain": "count    9.810617e+06\nmean     2.434811e-03\nstd      4.928370e-02\nmin      0.000000e+00\n25%      0.000000e+00\n50%      0.000000e+00\n75%      0.000000e+00\nmax      1.000000e+00\nName: HypertensionEclampsia, dtype: float64"
     },
     "metadata": {},
     "output_type": "display_data"
    },
    {
     "data": {
      "text/plain": "count    9.810617e+06\nmean     1.656297e-02\nstd      1.276270e-01\nmin      0.000000e+00\n25%      0.000000e+00\n50%      0.000000e+00\n75%      0.000000e+00\nmax      1.000000e+00\nName: InfertilityTreatment, dtype: float64"
     },
     "metadata": {},
     "output_type": "display_data"
    },
    {
     "data": {
      "text/plain": "count    9.810617e+06\nmean     1.524984e-01\nstd      3.595033e-01\nmin      0.000000e+00\n25%      0.000000e+00\n50%      0.000000e+00\n75%      0.000000e+00\nmax      1.000000e+00\nName: PrevCesareans, dtype: float64"
     },
     "metadata": {},
     "output_type": "display_data"
    },
    {
     "data": {
      "text/plain": "count    9.810617e+06\nmean     1.096333e-02\nstd      1.041304e-01\nmin      0.000000e+00\n25%      0.000000e+00\n50%      0.000000e+00\n75%      0.000000e+00\nmax      1.000000e+00\nName: race_AmeriIndian, dtype: float64"
     },
     "metadata": {},
     "output_type": "display_data"
    },
    {
     "data": {
      "text/plain": "count    9.810617e+06\nmean     7.026031e-02\nstd      2.555852e-01\nmin      0.000000e+00\n25%      0.000000e+00\n50%      0.000000e+00\n75%      0.000000e+00\nmax      1.000000e+00\nName: race_AsianPI, dtype: float64"
     },
     "metadata": {},
     "output_type": "display_data"
    },
    {
     "data": {
      "text/plain": "count    9.810617e+06\nmean     1.559738e-01\nstd      3.628305e-01\nmin      0.000000e+00\n25%      0.000000e+00\n50%      0.000000e+00\n75%      0.000000e+00\nmax      1.000000e+00\nName: race_Black, dtype: float64"
     },
     "metadata": {},
     "output_type": "display_data"
    },
    {
     "data": {
      "text/plain": "count    9.810617e+06\nmean     7.628026e-01\nstd      4.253643e-01\nmin      0.000000e+00\n25%      1.000000e+00\n50%      1.000000e+00\n75%      1.000000e+00\nmax      1.000000e+00\nName: race_White, dtype: float64"
     },
     "metadata": {},
     "output_type": "display_data"
    },
    {
     "data": {
      "text/plain": "count    9.810617e+06\nmean     9.814673e-03\nstd      9.858167e-02\nmin      0.000000e+00\n25%      0.000000e+00\n50%      0.000000e+00\n75%      0.000000e+00\nmax      1.000000e+00\nName: education_, dtype: float64"
     },
     "metadata": {},
     "output_type": "display_data"
    },
    {
     "data": {
      "text/plain": "count    9.810617e+06\nmean     8.269409e-02\nstd      2.754193e-01\nmin      0.000000e+00\n25%      0.000000e+00\n50%      0.000000e+00\n75%      0.000000e+00\nmax      1.000000e+00\nName: education_Associate, dtype: float64"
     },
     "metadata": {},
     "output_type": "display_data"
    },
    {
     "data": {
      "text/plain": "count    9.810617e+06\nmean     1.975937e-01\nstd      3.981839e-01\nmin      0.000000e+00\n25%      0.000000e+00\n50%      0.000000e+00\n75%      0.000000e+00\nmax      1.000000e+00\nName: education_Bachelor, dtype: float64"
     },
     "metadata": {},
     "output_type": "display_data"
    },
    {
     "data": {
      "text/plain": "count    9.810617e+06\nmean     2.141386e-01\nstd      4.102235e-01\nmin      0.000000e+00\n25%      0.000000e+00\n50%      0.000000e+00\n75%      0.000000e+00\nmax      1.000000e+00\nName: education_CollIncomplete, dtype: float64"
     },
     "metadata": {},
     "output_type": "display_data"
    },
    {
     "data": {
      "text/plain": "count    9.810617e+06\nmean     2.557698e-02\nstd      1.578696e-01\nmin      0.000000e+00\n25%      0.000000e+00\n50%      0.000000e+00\n75%      0.000000e+00\nmax      1.000000e+00\nName: education_Doctorate, dtype: float64"
     },
     "metadata": {},
     "output_type": "display_data"
    },
    {
     "data": {
      "text/plain": "count    9.810617e+06\nmean     2.491524e-01\nstd      4.325223e-01\nmin      0.000000e+00\n25%      0.000000e+00\n50%      0.000000e+00\n75%      0.000000e+00\nmax      1.000000e+00\nName: education_HSGraduate, dtype: float64"
     },
     "metadata": {},
     "output_type": "display_data"
    },
    {
     "data": {
      "text/plain": "count    9.810617e+06\nmean     9.845171e-02\nstd      2.979245e-01\nmin      0.000000e+00\n25%      0.000000e+00\n50%      0.000000e+00\n75%      0.000000e+00\nmax      1.000000e+00\nName: education_HSIncomplete, dtype: float64"
     },
     "metadata": {},
     "output_type": "display_data"
    },
    {
     "data": {
      "text/plain": "count    9.810617e+06\nmean     3.384150e-02\nstd      1.808211e-01\nmin      0.000000e+00\n25%      0.000000e+00\n50%      0.000000e+00\n75%      0.000000e+00\nmax      1.000000e+00\nName: education_lteq8, dtype: float64"
     },
     "metadata": {},
     "output_type": "display_data"
    },
    {
     "data": {
      "text/plain": "count    9.810617e+06\nmean     8.873631e-02\nstd      2.843628e-01\nmin      0.000000e+00\n25%      0.000000e+00\n50%      0.000000e+00\n75%      0.000000e+00\nmax      1.000000e+00\nName: education_Master, dtype: float64"
     },
     "metadata": {},
     "output_type": "display_data"
    }
   ],
   "source": [
    "# Curious about our columns --- check for normalization, mins and maxes\n",
    "for c in xtrain.columns:\n",
    "    display(xtrain[c].describe())\n"
   ]
  },
  {
   "cell_type": "markdown",
   "metadata": {},
   "source": [
    "# Logistic Regression"
   ]
  },
  {
   "cell_type": "code",
   "execution_count": 4,
   "metadata": {},
   "outputs": [
    {
     "name": "stderr",
     "output_type": "stream",
     "text": [
      "/home/cove/Documents/S2021/cpsc464/fair-child/venv/lib/python3.9/site-packages/sklearn/linear_model/_logistic.py:763: ConvergenceWarning: lbfgs failed to converge (status=1):\n",
      "STOP: TOTAL NO. of ITERATIONS REACHED LIMIT.\n",
      "\n",
      "Increase the number of iterations (max_iter) or scale the data as shown in:\n",
      "    https://scikit-learn.org/stable/modules/preprocessing.html\n",
      "Please also refer to the documentation for alternative solver options:\n",
      "    https://scikit-learn.org/stable/modules/linear_model.html#logistic-regression\n",
      "  n_iter_i = _check_optimize_result(\n"
     ]
    }
   ],
   "source": [
    "lr_early = models.build_logreg()\n",
    "models.fit_logreg(lr_early, xtrain, ytrain)\n",
    "models.save_pickle(lr_early, 'models/lr_early')"
   ]
  },
  {
   "cell_type": "code",
   "execution_count": 5,
   "metadata": {},
   "outputs": [
    {
     "name": "stdout",
     "output_type": "stream",
     "text": [
      "0.7574489035079895\n",
      "              precision    recall  f1-score   support\n",
      "\n",
      "           0     0.9992    0.7576    0.8618   1398616\n",
      "           1     0.0060    0.7009    0.0118      2899\n",
      "\n",
      "    accuracy                         0.7574   1401515\n",
      "   macro avg     0.5026    0.7292    0.4368   1401515\n",
      "weighted avg     0.9971    0.7574    0.8600   1401515\n",
      "\n"
     ]
    },
    {
     "data": {
      "text/plain": "68"
     },
     "execution_count": 5,
     "metadata": {},
     "output_type": "execute_result"
    }
   ],
   "source": [
    "print(lr_early.score(xtest, ytest))\n",
    "print(sklearn.metrics.classification_report(ytest, lr_early.predict(xtest), digits=4))\n",
    "del lr_early\n",
    "gc.collect()"
   ]
  },
  {
   "cell_type": "markdown",
   "metadata": {},
   "source": [
    "# Gradient Boosting"
   ]
  },
  {
   "cell_type": "code",
   "execution_count": 6,
   "metadata": {},
   "outputs": [
    {
     "name": "stdout",
     "output_type": "stream",
     "text": [
      "Training until validation scores don't improve for 500 rounds\n",
      "[100]\tvalid_0's auc: 0.866562\tvalid_0's binary_error: 0.018647\tvalid_0's binary_logloss: 0.217468\n",
      "[200]\tvalid_0's auc: 0.870975\tvalid_0's binary_error: 0.0773962\tvalid_0's binary_logloss: 0.310769\n",
      "[300]\tvalid_0's auc: 0.8723\tvalid_0's binary_error: 0.104443\tvalid_0's binary_logloss: 0.348214\n",
      "[400]\tvalid_0's auc: 0.873174\tvalid_0's binary_error: 0.113286\tvalid_0's binary_logloss: 0.361069\n",
      "[500]\tvalid_0's auc: 0.873729\tvalid_0's binary_error: 0.115914\tvalid_0's binary_logloss: 0.364633\n",
      "[600]\tvalid_0's auc: 0.874022\tvalid_0's binary_error: 0.11652\tvalid_0's binary_logloss: 0.364965\n",
      "[700]\tvalid_0's auc: 0.874321\tvalid_0's binary_error: 0.116187\tvalid_0's binary_logloss: 0.363983\n",
      "[800]\tvalid_0's auc: 0.874543\tvalid_0's binary_error: 0.115494\tvalid_0's binary_logloss: 0.362405\n",
      "[900]\tvalid_0's auc: 0.874636\tvalid_0's binary_error: 0.114882\tvalid_0's binary_logloss: 0.360653\n",
      "[1000]\tvalid_0's auc: 0.874636\tvalid_0's binary_error: 0.114151\tvalid_0's binary_logloss: 0.358931\n",
      "[1100]\tvalid_0's auc: 0.87479\tvalid_0's binary_error: 0.113389\tvalid_0's binary_logloss: 0.357241\n",
      "[1200]\tvalid_0's auc: 0.874789\tvalid_0's binary_error: 0.11288\tvalid_0's binary_logloss: 0.355672\n",
      "[1300]\tvalid_0's auc: 0.874744\tvalid_0's binary_error: 0.112273\tvalid_0's binary_logloss: 0.354149\n",
      "[1400]\tvalid_0's auc: 0.874562\tvalid_0's binary_error: 0.111676\tvalid_0's binary_logloss: 0.35261\n",
      "[1500]\tvalid_0's auc: 0.874389\tvalid_0's binary_error: 0.11107\tvalid_0's binary_logloss: 0.351176\n",
      "[1600]\tvalid_0's auc: 0.874189\tvalid_0's binary_error: 0.110343\tvalid_0's binary_logloss: 0.349705\n",
      "Early stopping, best iteration is:\n",
      "[1151]\tvalid_0's auc: 0.874818\tvalid_0's binary_error: 0.113168\tvalid_0's binary_logloss: 0.356419\n",
      "Evaluated only: auc\n"
     ]
    }
   ],
   "source": [
    "gb_early = models.build_gbdt()\n",
    "models.fit_gbdt(gb_early, xtrain, ytrain, xval, yval)\n",
    "models.save_pickle(gb_early, 'models/gb_early')"
   ]
  },
  {
   "cell_type": "code",
   "execution_count": 7,
   "metadata": {},
   "outputs": [
    {
     "name": "stdout",
     "output_type": "stream",
     "text": [
      "0.8864207660995422\n",
      "              precision    recall  f1-score   support\n",
      "\n",
      "           0     0.9993    0.8868    0.9397   1398616\n",
      "           1     0.0124    0.6826    0.0243      2899\n",
      "\n",
      "    accuracy                         0.8864   1401515\n",
      "   macro avg     0.5058    0.7847    0.4820   1401515\n",
      "weighted avg     0.9972    0.8864    0.9378   1401515\n",
      "\n"
     ]
    },
    {
     "data": {
      "text/plain": "23"
     },
     "execution_count": 7,
     "metadata": {},
     "output_type": "execute_result"
    }
   ],
   "source": [
    "print(gb_early.score(xtest, ytest))\n",
    "print(sklearn.metrics.classification_report(ytest, gb_early.predict(xtest), digits=4))\n",
    "del gb_early\n",
    "gc.collect()"
   ]
  },
  {
   "cell_type": "markdown",
   "metadata": {},
   "source": [
    "# Neural nets"
   ]
  },
  {
   "cell_type": "code",
   "execution_count": 8,
   "metadata": {},
   "outputs": [
    {
     "name": "stdout",
     "output_type": "stream",
     "text": [
      "Model: \"NN_selu\"\n",
      "_________________________________________________________________\n",
      "Layer (type)                 Output Shape              Param #   \n",
      "=================================================================\n",
      "input_1 (InputLayer)         [(None, 27)]              0         \n",
      "_________________________________________________________________\n",
      "selu1 (Dense)                (None, 27)                756       \n",
      "_________________________________________________________________\n",
      "alpha_dropout (AlphaDropout) (None, 27)                0         \n",
      "_________________________________________________________________\n",
      "selu2 (Dense)                (None, 27)                756       \n",
      "_________________________________________________________________\n",
      "alpha_dropout_1 (AlphaDropou (None, 27)                0         \n",
      "_________________________________________________________________\n",
      "selu3 (Dense)                (None, 27)                756       \n",
      "_________________________________________________________________\n",
      "alpha_dropout_2 (AlphaDropou (None, 27)                0         \n",
      "_________________________________________________________________\n",
      "selu4 (Dense)                (None, 27)                756       \n",
      "_________________________________________________________________\n",
      "alpha_dropout_3 (AlphaDropou (None, 27)                0         \n",
      "_________________________________________________________________\n",
      "output (Dense)               (None, 1)                 28        \n",
      "=================================================================\n",
      "Total params: 3,052\n",
      "Trainable params: 3,052\n",
      "Non-trainable params: 0\n",
      "_________________________________________________________________\n",
      "Training model with class weights, {0: 0.5010364827632839, 1: 241.70034491254003}\n",
      "WARNING:tensorflow:From /home/cove/Documents/S2021/cpsc464/fair-child/venv/lib/python3.9/site-packages/tensorflow/python/ops/array_ops.py:5043: calling gather (from tensorflow.python.ops.array_ops) with validate_indices is deprecated and will be removed in a future version.\n",
      "Instructions for updating:\n",
      "The `validate_indices` argument has no effect. Indices are always validated on CPU and never validated on GPU.\n",
      "Epoch 1/10\n",
      "38323/38323 [==============================] - 82s 2ms/step - loss: 0.5814 - accuracy: 2.3957e-05 - auc: 0.7351 - val_loss: 0.4271 - val_accuracy: 6.6214e-04 - val_auc: 0.8597\n",
      "Epoch 2/10\n",
      "38323/38323 [==============================] - 81s 2ms/step - loss: 0.4523 - accuracy: 8.5162e-05 - auc: 0.8461 - val_loss: 0.2943 - val_accuracy: 8.7976e-04 - val_auc: 0.8645\n",
      "Epoch 3/10\n",
      "38323/38323 [==============================] - 80s 2ms/step - loss: 0.4505 - accuracy: 1.3027e-04 - auc: 0.8497 - val_loss: 0.5414 - val_accuracy: 8.9546e-04 - val_auc: 0.8624\n",
      "Epoch 4/10\n",
      "38323/38323 [==============================] - 81s 2ms/step - loss: 0.4514 - accuracy: 7.9241e-05 - auc: 0.8482 - val_loss: 0.4847 - val_accuracy: 9.0045e-04 - val_auc: 0.8636\n",
      "Epoch 5/10\n",
      "38323/38323 [==============================] - 80s 2ms/step - loss: 0.4421 - accuracy: 1.0800e-04 - auc: 0.8539 - val_loss: 0.3757 - val_accuracy: 9.0474e-04 - val_auc: 0.8650\n",
      "Epoch 6/10\n",
      "38323/38323 [==============================] - 80s 2ms/step - loss: 0.4497 - accuracy: 1.0024e-04 - auc: 0.8498 - val_loss: 0.4388 - val_accuracy: 8.9760e-04 - val_auc: 0.8659\n",
      "Epoch 7/10\n",
      "38323/38323 [==============================] - 132s 3ms/step - loss: 0.4451 - accuracy: 1.0711e-04 - auc: 0.8551 - val_loss: 0.4956 - val_accuracy: 9.0474e-04 - val_auc: 0.8630\n",
      "Epoch 8/10\n",
      "38323/38323 [==============================] - 174s 5ms/step - loss: 0.4477 - accuracy: 1.0750e-04 - auc: 0.8516 - val_loss: 0.4145 - val_accuracy: 8.9475e-04 - val_auc: 0.8664\n",
      "Epoch 9/10\n",
      "38323/38323 [==============================] - 145s 4ms/step - loss: 0.4450 - accuracy: 9.7042e-05 - auc: 0.8548 - val_loss: 0.4150 - val_accuracy: 8.9118e-04 - val_auc: 0.8664\n",
      "Epoch 10/10\n",
      "38323/38323 [==============================] - 175s 5ms/step - loss: 0.4415 - accuracy: 9.5225e-05 - auc: 0.8550 - val_loss: 0.3633 - val_accuracy: 8.8975e-04 - val_auc: 0.8661\n",
      "INFO:tensorflow:Assets written to: models/selu_early/assets\n"
     ]
    }
   ],
   "source": [
    "selu_early = models.build_NN_selu(input_len=xtrain.shape[1])  # Assuming xtrain is (batch_size, n_features)\n",
    "selu_early.summary()\n",
    "\n",
    "models.fit_NN_selu(selu_early, xtrain, ytrain, xval, yval)\n",
    "models.save_NN(selu_early, 'models/selu_early')"
   ]
  },
  {
   "cell_type": "code",
   "execution_count": 9,
   "metadata": {},
   "outputs": [
    {
     "name": "stdout",
     "output_type": "stream",
     "text": [
      "43798/43798 [==============================] - 66s 2ms/step - loss: 0.3627 - accuracy: 8.8333e-04 - auc: 0.8627\n"
     ]
    },
    {
     "data": {
      "text/plain": "18677"
     },
     "execution_count": 9,
     "metadata": {},
     "output_type": "execute_result"
    }
   ],
   "source": [
    "selu_early.evaluate(xtest, ytest)  # Output is [loss, accuracy, auc]\n",
    "del selu_early\n",
    "gc.collect()"
   ]
  },
  {
   "cell_type": "code",
   "execution_count": 10,
   "metadata": {},
   "outputs": [
    {
     "name": "stdout",
     "output_type": "stream",
     "text": [
      "Model: \"NN_lrelu\"\n",
      "_________________________________________________________________\n",
      "Layer (type)                 Output Shape              Param #   \n",
      "=================================================================\n",
      "input_2 (InputLayer)         [(None, 27)]              0         \n",
      "_________________________________________________________________\n",
      "lrelu1 (Dense)               (None, 70)                1960      \n",
      "_________________________________________________________________\n",
      "dropout (Dropout)            (None, 70)                0         \n",
      "_________________________________________________________________\n",
      "lrelu2 (Dense)               (None, 80)                5680      \n",
      "_________________________________________________________________\n",
      "dropout_1 (Dropout)          (None, 80)                0         \n",
      "_________________________________________________________________\n",
      "output (Dense)               (None, 1)                 81        \n",
      "=================================================================\n",
      "Total params: 7,721\n",
      "Trainable params: 7,721\n",
      "Non-trainable params: 0\n",
      "_________________________________________________________________\n",
      "Training model with class weights, {0: 0.5010364827632839, 1: 241.70034491254003}\n",
      "Epoch 1/20\n",
      "38323/38323 [==============================] - 92s 2ms/step - loss: 0.9742 - accuracy: 3.4057e-05 - auc: 0.6643 - val_loss: 0.3037 - val_accuracy: 0.0000e+00 - val_auc: 0.7483\n",
      "Epoch 2/20\n",
      "38323/38323 [==============================] - 80s 2ms/step - loss: 0.9999 - accuracy: 8.4633e-05 - auc: 0.7025 - val_loss: 0.0958 - val_accuracy: 3.5676e-06 - val_auc: 0.7929\n",
      "Epoch 3/20\n",
      "38323/38323 [==============================] - 80s 2ms/step - loss: 1.0393 - accuracy: 7.5727e-05 - auc: 0.6938 - val_loss: 0.4965 - val_accuracy: 4.9946e-06 - val_auc: 0.8009\n",
      "Epoch 4/20\n",
      "38323/38323 [==============================] - 79s 2ms/step - loss: 1.0384 - accuracy: 7.6504e-05 - auc: 0.6926 - val_loss: 1.0236 - val_accuracy: 4.7092e-05 - val_auc: 0.8136\n",
      "Epoch 5/20\n",
      "38323/38323 [==============================] - 78s 2ms/step - loss: 1.0136 - accuracy: 7.6750e-05 - auc: 0.6987 - val_loss: 1.4191 - val_accuracy: 3.5676e-06 - val_auc: 0.5319\n",
      "Epoch 6/20\n",
      "38323/38323 [==============================] - 78s 2ms/step - loss: 1.0317 - accuracy: 7.8706e-05 - auc: 0.6939 - val_loss: 0.5131 - val_accuracy: 0.0000e+00 - val_auc: 0.8013\n",
      "Epoch 7/20\n",
      "38323/38323 [==============================] - 92s 2ms/step - loss: 1.0394 - accuracy: 7.7917e-05 - auc: 0.6951 - val_loss: 0.4349 - val_accuracy: 3.1823e-04 - val_auc: 0.7952\n",
      "Epoch 8/20\n",
      "38323/38323 [==============================] - 152s 4ms/step - loss: 1.0679 - accuracy: 8.1203e-05 - auc: 0.6915 - val_loss: 0.9546 - val_accuracy: 6.4216e-06 - val_auc: 0.7745\n",
      "Epoch 9/20\n",
      "38323/38323 [==============================] - 109s 3ms/step - loss: 1.0434 - accuracy: 7.6145e-05 - auc: 0.6966 - val_loss: 1.1429 - val_accuracy: 5.7795e-05 - val_auc: 0.7870\n",
      "Epoch 10/20\n",
      "38323/38323 [==============================] - 100s 3ms/step - loss: 1.0546 - accuracy: 7.6035e-05 - auc: 0.6938 - val_loss: 1.0839 - val_accuracy: 9.9892e-06 - val_auc: 0.7921\n",
      "Epoch 11/20\n",
      "38323/38323 [==============================] - 80s 2ms/step - loss: 1.0427 - accuracy: 8.3034e-05 - auc: 0.6947 - val_loss: 0.5214 - val_accuracy: 1.6411e-05 - val_auc: 0.8056\n",
      "Epoch 12/20\n",
      "38323/38323 [==============================] - 89s 2ms/step - loss: 1.0450 - accuracy: 8.8504e-05 - auc: 0.7006 - val_loss: 0.5856 - val_accuracy: 0.0000e+00 - val_auc: 0.8003\n",
      "Epoch 13/20\n",
      "38323/38323 [==============================] - 157s 4ms/step - loss: 1.0485 - accuracy: 9.0057e-05 - auc: 0.6972 - val_loss: 0.5816 - val_accuracy: 4.1384e-05 - val_auc: 0.7923\n",
      "Epoch 14/20\n",
      "38323/38323 [==============================] - 108s 3ms/step - loss: 1.0678 - accuracy: 7.5365e-05 - auc: 0.6909 - val_loss: 0.7698 - val_accuracy: 3.7103e-05 - val_auc: 0.7862\n",
      "Epoch 15/20\n",
      "38323/38323 [==============================] - 109s 3ms/step - loss: 1.0389 - accuracy: 8.4340e-05 - auc: 0.6946 - val_loss: 0.5413 - val_accuracy: 6.9211e-05 - val_auc: 0.7941\n",
      "Epoch 16/20\n",
      "38323/38323 [==============================] - 97s 3ms/step - loss: 1.0435 - accuracy: 9.0118e-05 - auc: 0.7006 - val_loss: 1.0156 - val_accuracy: 1.9978e-04 - val_auc: 0.8009\n",
      "Epoch 17/20\n",
      "38323/38323 [==============================] - 80s 2ms/step - loss: 1.0446 - accuracy: 7.2681e-05 - auc: 0.6958 - val_loss: 0.0782 - val_accuracy: 4.8519e-05 - val_auc: 0.7820\n",
      "Epoch 18/20\n",
      "38323/38323 [==============================] - 80s 2ms/step - loss: 1.0422 - accuracy: 7.2271e-05 - auc: 0.6930 - val_loss: 0.1506 - val_accuracy: 6.2076e-05 - val_auc: 0.7926\n",
      "Epoch 19/20\n",
      "38323/38323 [==============================] - 79s 2ms/step - loss: 1.0382 - accuracy: 8.4033e-05 - auc: 0.6995 - val_loss: 0.2389 - val_accuracy: 6.4216e-06 - val_auc: 0.7827\n",
      "Epoch 20/20\n",
      "38323/38323 [==============================] - 79s 2ms/step - loss: 1.0412 - accuracy: 6.1117e-05 - auc: 0.6886 - val_loss: 0.2952 - val_accuracy: 2.8541e-06 - val_auc: 0.7498\n"
     ]
    },
    {
     "name": "stderr",
     "output_type": "stream",
     "text": [
      "WARNING:absl:Found untraced functions such as leaky_re_lu_layer_call_fn, leaky_re_lu_layer_call_and_return_conditional_losses, leaky_re_lu_1_layer_call_fn, leaky_re_lu_1_layer_call_and_return_conditional_losses, leaky_re_lu_layer_call_fn while saving (showing 5 of 10). These functions will not be directly callable after loading.\n"
     ]
    },
    {
     "name": "stdout",
     "output_type": "stream",
     "text": [
      "INFO:tensorflow:Assets written to: models/lrelu_early/assets\n"
     ]
    },
    {
     "name": "stderr",
     "output_type": "stream",
     "text": [
      "INFO:tensorflow:Assets written to: models/lrelu_early/assets\n"
     ]
    }
   ],
   "source": [
    "lrelu_early = models.build_NN_lrelu(input_len=xtrain.shape[1])  # Assuming xtrain is (batch_size, n_features)\n",
    "lrelu_early.summary()\n",
    "\n",
    "models.fit_NN_lrelu(lrelu_early, xtrain, ytrain, xval, yval)\n",
    "models.save_NN(lrelu_early, 'models/lrelu_early')"
   ]
  },
  {
   "cell_type": "code",
   "execution_count": 11,
   "metadata": {},
   "outputs": [
    {
     "name": "stdout",
     "output_type": "stream",
     "text": [
      "43798/43798 [==============================] - 28s 649us/step - loss: 0.2959 - accuracy: 1.4270e-06 - auc: 0.7580\n"
     ]
    },
    {
     "data": {
      "text/plain": "11747"
     },
     "execution_count": 11,
     "metadata": {},
     "output_type": "execute_result"
    }
   ],
   "source": [
    "lrelu_early.evaluate(xtest, ytest)  # Output is [loss, accuracy, auc]\n",
    "del lrelu_early\n",
    "gc.collect()"
   ]
  }
 ],
 "metadata": {
  "kernelspec": {
   "display_name": "Python 3.9.2 64-bit ('venv')",
   "metadata": {
    "interpreter": {
     "hash": "b61fea741fbe03daed72c4da298e8e8eaab54de8e50b0bc374a5b705e2fb6e53"
    }
   },
   "name": "python3"
  },
  "language_info": {
   "codemirror_mode": {
    "name": "ipython",
    "version": 3
   },
   "file_extension": ".py",
   "mimetype": "text/x-python",
   "name": "python",
   "nbconvert_exporter": "python",
   "pygments_lexer": "ipython3",
   "version": "3.9.2-final"
  }
 },
 "nbformat": 4,
 "nbformat_minor": 5
}