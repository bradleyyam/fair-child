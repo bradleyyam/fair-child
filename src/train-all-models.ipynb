{
 "cells": [
  {
   "cell_type": "markdown",
   "id": "developmental-surveillance",
   "metadata": {},
   "source": [
    "# Setup"
   ]
  },
  {
   "cell_type": "code",
   "execution_count": null,
   "id": "growing-guarantee",
   "metadata": {},
   "outputs": [],
   "source": [
    "import gc\n",
    "import numpy as np\n",
    "import os\n",
    "import sklearn.metrics\n",
    "import tensorflow as tf\n",
    "\n",
    "import models\n",
    "import util\n",
    "\n",
    "SEED = 2021\n",
    "np.random.seed(SEED)\n",
    "tf.random.set_seed(SEED)\n",
    "\n",
    "# Stay in top-level directory for consistency\n",
    "if '/src' in os.getcwd():\n",
    "    os.chdir('..')"
   ]
  },
  {
   "cell_type": "code",
   "execution_count": null,
   "id": "appointed-amsterdam",
   "metadata": {},
   "outputs": [],
   "source": [
    "# The following functions rely on the variables named xtrain, ytrain, etc in the environment.\n",
    "\n",
    "def train_logreg(name):\n",
    "    lr = models.build_logreg()\n",
    "    models.fit_logreg(lr, xtrain, ytrain)\n",
    "    models.save_pickle(lr, f'models/lr_{name}')\n",
    "    print(lr.score(xtest, ytest))\n",
    "    print(sklearn.metrics.classification_report(ytest, lr.predict(xtest), digits=4))\n",
    "    del lr\n",
    "    gc.collect()\n",
    "\n",
    "def train_gb(name):\n",
    "    gb = models.build_gbdt()\n",
    "    models.fit_gbdt(gb, xtrain, ytrain, xval, yval)\n",
    "    models.save_pickle(gb, f'models/gb_{name}')\n",
    "    print(gb.score(xtest, ytest))\n",
    "    print(sklearn.metrics.classification_report(ytest, gb.predict(xtest), digits=4))\n",
    "    del gb\n",
    "    gc.collect()\n",
    "\n",
    "def train_selu(name):\n",
    "    selu = models.build_NN_selu(input_len=xtrain.shape[1])  # Assuming xtrain is (batch_size, n_features)\n",
    "    selu.summary()\n",
    "    models.fit_NN_selu(selu, xtrain, ytrain, xval, yval)\n",
    "    models.save_NN(selu, f'models/selu_{name}')\n",
    "    selu.evaluate(xtest, ytest)  # Output is [loss, accuracy, auc]\n",
    "    del selu\n",
    "    gc.collect()\n",
    "\n",
    "def train_lrelu(name):\n",
    "    lrelu = models.build_NN_lrelu(input_len=xtrain.shape[1])  # Assuming xtrain is (batch_size, n_features)\n",
    "    lrelu.summary()\n",
    "    models.fit_NN_lrelu(lrelu, xtrain, ytrain, xval, yval)\n",
    "    models.save_NN(lrelu, f'models/lrelu_{name}')\n",
    "    lrelu.evaluate(xtest, ytest)  # Output is [loss, accuracy, auc]\n",
    "    del lrelu\n",
    "    gc.collect()"
   ]
  },
  {
   "cell_type": "markdown",
   "id": "tough-knight",
   "metadata": {},
   "source": [
    "# Stillbirth\n",
    "\n",
    "## Race-Aware"
   ]
  },
  {
   "cell_type": "code",
   "execution_count": null,
   "id": "executed-brunei",
   "metadata": {},
   "outputs": [],
   "source": [
    "# Load data\n",
    "xtrain, ytrain0, xtest, ytest0, xval, yval0 = util.load_preg_data_final(datafile='stillbirth')"
   ]
  },
  {
   "cell_type": "markdown",
   "id": "owned-capture",
   "metadata": {},
   "source": [
    "### Early Stillbirth"
   ]
  },
  {
   "cell_type": "code",
   "execution_count": null,
   "id": "current-rebound",
   "metadata": {},
   "outputs": [],
   "source": [
    "# Convert class labels to binary labels\n",
    "ytrain = util.outcome_to_binary(ytrain0, outcome='early stillbirth')  # Choose between early stillbirth, late stillbirth, and preterm\n",
    "ytest = util.outcome_to_binary(ytest0, outcome='early stillbirth')\n",
    "yval = util.outcome_to_binary(yval0, outcome='early stillbirth')\n",
    "gc.collect()"
   ]
  },
  {
   "cell_type": "code",
   "execution_count": null,
   "id": "steady-immigration",
   "metadata": {},
   "outputs": [],
   "source": [
    "train_logreg('early_aware')"
   ]
  },
  {
   "cell_type": "code",
   "execution_count": null,
   "id": "resident-adobe",
   "metadata": {},
   "outputs": [],
   "source": [
    "train_gb('early_aware')"
   ]
  },
  {
   "cell_type": "code",
   "execution_count": null,
   "id": "judicial-jerusalem",
   "metadata": {},
   "outputs": [],
   "source": [
    "train_selu('early_aware')"
   ]
  },
  {
   "cell_type": "code",
   "execution_count": null,
   "id": "covered-stylus",
   "metadata": {},
   "outputs": [],
   "source": [
    "train_lrelu('early_aware')"
   ]
  },
  {
   "cell_type": "markdown",
   "id": "inappropriate-academy",
   "metadata": {},
   "source": [
    "### Late Stillbirth"
   ]
  },
  {
   "cell_type": "code",
   "execution_count": null,
   "id": "gothic-entrance",
   "metadata": {},
   "outputs": [],
   "source": [
    "# Convert class labels to binary labels\n",
    "ytrain = util.outcome_to_binary(ytrain0, outcome='late stillbirth')  # Choose between early stillbirth, late stillbirth, and preterm\n",
    "ytest = util.outcome_to_binary(ytest0, outcome='late stillbirth')\n",
    "yval = util.outcome_to_binary(yval0, outcome='late stillbirth')\n",
    "gc.collect()"
   ]
  },
  {
   "cell_type": "code",
   "execution_count": null,
   "id": "devoted-investigator",
   "metadata": {},
   "outputs": [],
   "source": [
    "train_logreg('late_aware')"
   ]
  },
  {
   "cell_type": "code",
   "execution_count": null,
   "id": "innovative-accounting",
   "metadata": {},
   "outputs": [],
   "source": [
    "train_gb('late_aware')"
   ]
  },
  {
   "cell_type": "code",
   "execution_count": null,
   "id": "alpine-aerospace",
   "metadata": {},
   "outputs": [],
   "source": [
    "train_selu('late_aware')"
   ]
  },
  {
   "cell_type": "code",
   "execution_count": null,
   "id": "explicit-ghana",
   "metadata": {},
   "outputs": [],
   "source": [
    "train_lrelu('late_aware')"
   ]
  },
  {
   "cell_type": "markdown",
   "id": "alternative-organic",
   "metadata": {},
   "source": [
    "## Race-Unaware"
   ]
  },
  {
   "cell_type": "code",
   "execution_count": null,
   "id": "joined-chancellor",
   "metadata": {},
   "outputs": [],
   "source": [
    "# Drop the 'race' columns\n",
    "xtrain = xtrain.drop(columns=['race_AmeriIndian', 'race_AsianPI', 'race_Black', 'race_White'])\n",
    "xval = xval.drop(columns=['race_AmeriIndian', 'race_AsianPI', 'race_Black', 'race_White'])\n",
    "xtest = xtest.drop(columns=['race_AmeriIndian', 'race_AsianPI', 'race_Black', 'race_White'])"
   ]
  },
  {
   "cell_type": "markdown",
   "id": "everyday-alexandria",
   "metadata": {},
   "source": [
    "### Early Stillbirth"
   ]
  },
  {
   "cell_type": "code",
   "execution_count": null,
   "id": "bibliographic-energy",
   "metadata": {},
   "outputs": [],
   "source": [
    "# Convert class labels to binary labels\n",
    "ytrain = util.outcome_to_binary(ytrain0, outcome='early stillbirth')  # Choose between early stillbirth, late stillbirth, and preterm\n",
    "ytest = util.outcome_to_binary(ytest0, outcome='early stillbirth')\n",
    "yval = util.outcome_to_binary(yval0, outcome='early stillbirth')\n",
    "gc.collect()"
   ]
  },
  {
   "cell_type": "code",
   "execution_count": null,
   "id": "thick-disability",
   "metadata": {},
   "outputs": [],
   "source": [
    "train_logreg('early_unaware')"
   ]
  },
  {
   "cell_type": "code",
   "execution_count": null,
   "id": "relevant-appreciation",
   "metadata": {},
   "outputs": [],
   "source": [
    "train_gb('early_unaware')"
   ]
  },
  {
   "cell_type": "code",
   "execution_count": null,
   "id": "exceptional-happening",
   "metadata": {},
   "outputs": [],
   "source": [
    "train_selu('early_unaware')"
   ]
  },
  {
   "cell_type": "code",
   "execution_count": null,
   "id": "blond-fleece",
   "metadata": {},
   "outputs": [],
   "source": [
    "train_lrelu('early_unaware')"
   ]
  },
  {
   "cell_type": "markdown",
   "id": "professional-congress",
   "metadata": {},
   "source": [
    "### Late Stillbirth"
   ]
  },
  {
   "cell_type": "code",
   "execution_count": null,
   "id": "short-conditioning",
   "metadata": {},
   "outputs": [],
   "source": [
    "# Convert class labels to binary labels\n",
    "ytrain = util.outcome_to_binary(ytrain0, outcome='late stillbirth')  # Choose between early stillbirth, late stillbirth, and preterm\n",
    "ytest = util.outcome_to_binary(ytest0, outcome='late stillbirth')\n",
    "yval = util.outcome_to_binary(yval0, outcome='late stillbirth')\n",
    "gc.collect()"
   ]
  },
  {
   "cell_type": "code",
   "execution_count": null,
   "id": "special-improvement",
   "metadata": {},
   "outputs": [],
   "source": [
    "train_logreg('late_unaware')"
   ]
  },
  {
   "cell_type": "code",
   "execution_count": null,
   "id": "composed-reward",
   "metadata": {},
   "outputs": [],
   "source": [
    "train_gb('late_unaware')"
   ]
  },
  {
   "cell_type": "code",
   "execution_count": null,
   "id": "interracial-silver",
   "metadata": {},
   "outputs": [],
   "source": [
    "train_selu('late_unaware')"
   ]
  },
  {
   "cell_type": "code",
   "execution_count": null,
   "id": "capital-capture",
   "metadata": {},
   "outputs": [],
   "source": [
    "train_lrelu('late_unaware')"
   ]
  },
  {
   "cell_type": "markdown",
   "id": "hazardous-africa",
   "metadata": {},
   "source": [
    "# Preterm Birth"
   ]
  },
  {
   "cell_type": "markdown",
   "id": "collect-coral",
   "metadata": {},
   "source": [
    "## Race-Aware"
   ]
  },
  {
   "cell_type": "code",
   "execution_count": null,
   "id": "horizontal-blogger",
   "metadata": {},
   "outputs": [],
   "source": [
    "# Load data\n",
    "xtrain, ytrain0, xtest, ytest0, xval, yval0 = util.load_preg_data_final(datafile='preterm')\n",
    "# Convert class labels to binary labels\n",
    "ytrain = util.outcome_to_binary(ytrain0, outcome='preterm')  # Choose between early stillbirth, late stillbirth, and preterm\n",
    "ytest = util.outcome_to_binary(ytest0, outcome='preterm')\n",
    "yval = util.outcome_to_binary(yval0, outcome='preterm')\n",
    "gc.collect()"
   ]
  },
  {
   "cell_type": "code",
   "execution_count": null,
   "id": "material-warrant",
   "metadata": {},
   "outputs": [],
   "source": [
    "train_logreg('preterm_aware')"
   ]
  },
  {
   "cell_type": "code",
   "execution_count": null,
   "id": "iraqi-reform",
   "metadata": {},
   "outputs": [],
   "source": [
    "train_gb('preterm_aware')"
   ]
  },
  {
   "cell_type": "code",
   "execution_count": null,
   "id": "assumed-sympathy",
   "metadata": {},
   "outputs": [],
   "source": [
    "train_selu('preterm_aware')"
   ]
  },
  {
   "cell_type": "code",
   "execution_count": null,
   "id": "daily-bookmark",
   "metadata": {},
   "outputs": [],
   "source": [
    "train_lrelu('preterm_aware')"
   ]
  },
  {
   "cell_type": "markdown",
   "id": "working-tucson",
   "metadata": {},
   "source": [
    "## Race-Unaware"
   ]
  },
  {
   "cell_type": "code",
   "execution_count": null,
   "id": "injured-update",
   "metadata": {},
   "outputs": [],
   "source": [
    "# Drop the 'race' columns\n",
    "xtrain = xtrain.drop(columns=['race_AmeriIndian', 'race_AsianPI', 'race_Black', 'race_White'])\n",
    "xval = xval.drop(columns=['race_AmeriIndian', 'race_AsianPI', 'race_Black', 'race_White'])\n",
    "xtest = xtest.drop(columns=['race_AmeriIndian', 'race_AsianPI', 'race_Black', 'race_White'])"
   ]
  },
  {
   "cell_type": "code",
   "execution_count": null,
   "id": "acting-device",
   "metadata": {},
   "outputs": [],
   "source": [
    "train_logreg('preterm_unaware')"
   ]
  },
  {
   "cell_type": "code",
   "execution_count": null,
   "id": "engaged-flesh",
   "metadata": {},
   "outputs": [],
   "source": [
    "train_gb('preterm_unaware')"
   ]
  },
  {
   "cell_type": "code",
   "execution_count": null,
   "id": "underlying-airfare",
   "metadata": {},
   "outputs": [],
   "source": [
    "train_selu('preterm_unaware')"
   ]
  },
  {
   "cell_type": "code",
   "execution_count": null,
   "id": "white-lightning",
   "metadata": {},
   "outputs": [],
   "source": [
    "train_lrelu('preterm_unaware')"
   ]
  }
 ],
 "metadata": {
  "kernelspec": {
   "display_name": "Python 3",
   "language": "python",
   "name": "python3"
  },
  "language_info": {
   "codemirror_mode": {
    "name": "ipython",
    "version": 3
   },
   "file_extension": ".py",
   "mimetype": "text/x-python",
   "name": "python",
   "nbconvert_exporter": "python",
   "pygments_lexer": "ipython3",
   "version": "3.9.4"
  }
 },
 "nbformat": 4,
 "nbformat_minor": 5
}
