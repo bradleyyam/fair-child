{
 "cells": [
  {
   "cell_type": "code",
   "execution_count": 1,
   "id": "fabulous-prediction",
   "metadata": {},
   "outputs": [],
   "source": [
    "import os\n",
    "import pandas as pd\n",
    "import sklearn"
   ]
  },
  {
   "cell_type": "code",
   "execution_count": 8,
   "id": "fatal-fortune",
   "metadata": {},
   "outputs": [],
   "source": [
    "# Stay in root directory for consistency\n",
    "if '/src' in os.getcwd():\n",
    "    os.chdir('..')"
   ]
  },
  {
   "cell_type": "markdown",
   "id": "prompt-medicine",
   "metadata": {},
   "source": [
    "## Data"
   ]
  },
  {
   "cell_type": "code",
   "execution_count": 69,
   "id": "north-stage",
   "metadata": {},
   "outputs": [],
   "source": [
    "# Maybe one day when this function grows up it may be sourced from its own .py file.\n",
    "\n",
    "def load_preg_data(sim=True, onehots=True):\n",
    "    if sim:\n",
    "        path = 'data/sim/'\n",
    "    else:\n",
    "        path = 'data/cdc'\n",
    "        raise NotImplementedError('No unsimulated data yet')        \n",
    "    # Load from CSV\n",
    "    data = [pd.read_csv(f'{path}{file}.csv') for file in ['train', 'test', 'val']]\n",
    "    # Separate and format the data\n",
    "    X = []\n",
    "    Y = []\n",
    "    for df in data:\n",
    "        # Separate labels and features\n",
    "        y = df['outcome']\n",
    "        x = df.drop(columns=['outcome', 'g.weeks', 'id'])\n",
    "        # Condense or remove one-hot vectors\n",
    "        if onehots:\n",
    "            race_oh = x.filter(regex=('race_.*')).values.tolist()\n",
    "            education_oh = x.filter(regex=('education_.*')).values.tolist()\n",
    "            x = x.loc[:, ~x.columns.str.contains('race')]\n",
    "            x = x.loc[:, ~x.columns.str.contains('education')]\n",
    "            x['race_oh'] = race_oh\n",
    "            x['education_oh'] = education_oh\n",
    "        else:\n",
    "            x = x.drop(columns=[c for c in x.columns if \"race_\" in c or \"education_\" in c])\n",
    "        # Continue\n",
    "        X.append(x)\n",
    "        Y.append(y)\n",
    "    # Done!\n",
    "    x_train, x_test, x_val = X\n",
    "    y_train, y_test, y_val = Y\n",
    "    if onehots:\n",
    "        print(\"Prototype one-hot vector for race:\", data[0].filter(regex=('race_.*')).columns.values.tolist())\n",
    "        print(\"Prototype one-hot vector for education:\", data[0].filter(regex=('education_.*')).columns.values.tolist())\n",
    "    return x_train, y_train, x_test, y_test, x_val, y_val\n",
    "\n",
    "def preg_outcome_to_binaries(y):\n",
    "    late_still = (y == 'late stillbirth').rename('late_still')\n",
    "    early_still = (y == 'early stillbirth').rename('early_still')\n",
    "    preterm = (y == 'preterm').rename('preterm')\n",
    "    return late_still, early_still, preterm\n",
    "\n",
    "def preg_outcome_to_onehot(y):\n",
    "    oh = y.str.get_dummies()\n",
    "    print(\"Protype one-hot vector for outcome:\", oh.columns.values.tolist())\n",
    "    return oh.values"
   ]
  },
  {
   "cell_type": "code",
   "execution_count": 70,
   "id": "engaging-incident",
   "metadata": {},
   "outputs": [
    {
     "name": "stdout",
     "output_type": "stream",
     "text": [
      "Prototype one-hot vector for race: ['race_amerindian', 'race_asian', 'race_black', 'race_white']\n",
      "Prototype one-hot vector for education: ['education_8th', 'education_College', 'education_Doctorate', 'education_HS']\n"
     ]
    }
   ],
   "source": [
    "x_train, y_train, x_test, y_test, x_val, y_val = load_preg_data()"
   ]
  },
  {
   "cell_type": "code",
   "execution_count": 74,
   "id": "extended-bulgarian",
   "metadata": {},
   "outputs": [
    {
     "name": "stdout",
     "output_type": "stream",
     "text": [
      "(0       False\n",
      "1       False\n",
      "2        True\n",
      "3        True\n",
      "4       False\n",
      "        ...  \n",
      "1080    False\n",
      "1081    False\n",
      "1082    False\n",
      "1083    False\n",
      "1084    False\n",
      "Name: late_still, Length: 1085, dtype: bool, 0       False\n",
      "1       False\n",
      "2       False\n",
      "3       False\n",
      "4       False\n",
      "        ...  \n",
      "1080    False\n",
      "1081    False\n",
      "1082    False\n",
      "1083    False\n",
      "1084    False\n",
      "Name: early_still, Length: 1085, dtype: bool, 0        True\n",
      "1        True\n",
      "2       False\n",
      "3       False\n",
      "4        True\n",
      "        ...  \n",
      "1080    False\n",
      "1081    False\n",
      "1082    False\n",
      "1083    False\n",
      "1084     True\n",
      "Name: preterm, Length: 1085, dtype: bool)\n",
      "Protype one-hot vector for outcome: ['early stillbearth', 'late stillbirth', 'normal', 'preterm']\n",
      "[[0 0 0 1]\n",
      " [0 0 0 1]\n",
      " [0 1 0 0]\n",
      " ...\n",
      " [0 0 1 0]\n",
      " [0 0 1 0]\n",
      " [0 0 0 1]]\n"
     ]
    }
   ],
   "source": [
    "print(preg_outcome_to_binaries(y_val))\n",
    "print(preg_outcome_to_onehot(y_val))"
   ]
  },
  {
   "cell_type": "markdown",
   "id": "employed-semester",
   "metadata": {},
   "source": [
    "## Model"
   ]
  },
  {
   "cell_type": "code",
   "execution_count": null,
   "id": "fifty-warner",
   "metadata": {},
   "outputs": [],
   "source": [
    "abc"
   ]
  }
 ],
 "metadata": {
  "kernelspec": {
   "display_name": "Python 3",
   "language": "python",
   "name": "python3"
  },
  "language_info": {
   "codemirror_mode": {
    "name": "ipython",
    "version": 3
   },
   "file_extension": ".py",
   "mimetype": "text/x-python",
   "name": "python",
   "nbconvert_exporter": "python",
   "pygments_lexer": "ipython3",
   "version": "3.9.2"
  }
 },
 "nbformat": 4,
 "nbformat_minor": 5
}
