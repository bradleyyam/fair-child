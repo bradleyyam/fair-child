{
 "cells": [
  {
   "cell_type": "code",
   "execution_count": 1,
   "id": "satisfied-arena",
   "metadata": {},
   "outputs": [],
   "source": [
    "import numpy as np\n",
    "import os\n",
    "import pandas as pd\n",
    "import sklearn.linear_model\n",
    "\n",
    "SEED = 2021"
   ]
  },
  {
   "cell_type": "code",
   "execution_count": 2,
   "id": "applicable-whale",
   "metadata": {},
   "outputs": [],
   "source": [
    "# Stay in root directory for consistency\n",
    "if '/src' in os.getcwd():\n",
    "    os.chdir('..')"
   ]
  },
  {
   "cell_type": "code",
   "execution_count": 3,
   "id": "victorian-instruction",
   "metadata": {},
   "outputs": [],
   "source": [
    "np.random.seed(SEED)"
   ]
  },
  {
   "cell_type": "markdown",
   "id": "chicken-april",
   "metadata": {},
   "source": [
    "## Data"
   ]
  },
  {
   "cell_type": "code",
   "execution_count": 4,
   "id": "retained-spectacular",
   "metadata": {},
   "outputs": [],
   "source": [
    "# Maybe one day when this function grows up it may be sourced from its own .py file.\n",
    "\n",
    "def load_preg_data(sim=True, onehots=True):\n",
    "    if sim:\n",
    "        path = 'data/sim/'\n",
    "    else:\n",
    "        path = 'data/cdc/'\n",
    "        raise NotImplementedError('No unsimulated data yet')        \n",
    "    # Load from CSVs\n",
    "    data = [pd.read_csv(f'{path}{file}.csv') for file in ['train', 'test', 'val']]\n",
    "    # Separate and format the data\n",
    "    X = []\n",
    "    Y = []\n",
    "    for df in data:\n",
    "        y = df['outcome']\n",
    "        x = df.drop(columns=['outcome', 'g.weeks', 'id'])\n",
    "        if onehots:\n",
    "            x = x.drop(columns=['race.f', 'education.f'])\n",
    "        else:\n",
    "            x = x.drop(columns=[c for c in x.columns if \"race_\" in c or \"education_\" in c])\n",
    "        X.append(x)\n",
    "        Y.append(y)\n",
    "    # Done!\n",
    "    xtrain, xtest, xval = X\n",
    "    ytrain, ytest, yval = Y\n",
    "    return xtrain, ytrain, xtest, ytest, xval, yval\n",
    "\n",
    "def preg_outcome_to_binaries(y):\n",
    "    early_still = (y == 'early stillbirth').rename('early_still')\n",
    "    late_still = (y == 'late stillbirth').rename('late_still')\n",
    "    preterm = (y == 'preterm').rename('preterm')\n",
    "    return early_still, late_still, preterm\n",
    "\n",
    "def preg_outcome_to_onehot(y):\n",
    "    oh = y.str.get_dummies()\n",
    "    print(\"Protype one-hot vector for outcome:\", oh.columns.values.tolist())\n",
    "    return oh.values"
   ]
  },
  {
   "cell_type": "code",
   "execution_count": 5,
   "id": "silent-sponsorship",
   "metadata": {},
   "outputs": [],
   "source": [
    "# Load data\n",
    "xtrain, ytrain, xtest, ytest, xval, yval = load_preg_data()\n",
    "# Create binary labels\n",
    "ytrain_early, ytrain_late, ytrain_preterm = preg_outcome_to_binaries(ytrain)\n",
    "ytest_early, ytest_late, ytest_preterm = preg_outcome_to_binaries(ytest)\n",
    "yval_early, yval_late, yval_preterm = preg_outcome_to_binaries(yval)"
   ]
  },
  {
   "cell_type": "markdown",
   "id": "tribal-driver",
   "metadata": {},
   "source": [
    "## Model"
   ]
  },
  {
   "cell_type": "code",
   "execution_count": 17,
   "id": "unexpected-sister",
   "metadata": {},
   "outputs": [
    {
     "name": "stdout",
     "output_type": "stream",
     "text": [
      "0.9695571955719557\n",
      "              precision    recall  f1-score   support\n",
      "\n",
      "       False     0.9646    0.9737    0.9691       532\n",
      "        True     0.9744    0.9656    0.9700       552\n",
      "\n",
      "    accuracy                         0.9696      1084\n",
      "   macro avg     0.9695    0.9696    0.9696      1084\n",
      "weighted avg     0.9696    0.9696    0.9696      1084\n",
      "\n"
     ]
    },
    {
     "name": "stderr",
     "output_type": "stream",
     "text": [
      "/home/cove/Documents/S2021/cpsc464/fair-child/venv/lib/python3.9/site-packages/sklearn/linear_model/_logistic.py:763: ConvergenceWarning: lbfgs failed to converge (status=1):\n",
      "STOP: TOTAL NO. of ITERATIONS REACHED LIMIT.\n",
      "\n",
      "Increase the number of iterations (max_iter) or scale the data as shown in:\n",
      "    https://scikit-learn.org/stable/modules/preprocessing.html\n",
      "Please also refer to the documentation for alternative solver options:\n",
      "    https://scikit-learn.org/stable/modules/linear_model.html#logistic-regression\n",
      "  n_iter_i = _check_optimize_result(\n"
     ]
    }
   ],
   "source": [
    "logreg_preterm = sklearn.linear_model.LogisticRegression(\n",
    "    solver='lbfgs', penalty='l2', tol=1e-4, C=1, max_iter=100, class_weight='balanced')\n",
    "\n",
    "logreg_preterm.fit(xtrain, ytrain_preterm)\n",
    "\n",
    "print(logreg_preterm.score(xtest, ytest_preterm))\n",
    "print(sklearn.metrics.classification_report(ytest_preterm, logreg_preterm.predict(xtest), digits=4))"
   ]
  },
  {
   "cell_type": "code",
   "execution_count": 20,
   "id": "celtic-classification",
   "metadata": {},
   "outputs": [
    {
     "name": "stdout",
     "output_type": "stream",
     "text": [
      "0.9861623616236163\n",
      "              precision    recall  f1-score   support\n",
      "\n",
      "       False     0.6015    0.3713    0.4591       870\n",
      "        True     0.0000    0.0000    0.0000       214\n",
      "\n",
      "    accuracy                         0.2980      1084\n",
      "   macro avg     0.3007    0.1856    0.2296      1084\n",
      "weighted avg     0.4827    0.2980    0.3685      1084\n",
      "\n"
     ]
    }
   ],
   "source": [
    "logreg_late = sklearn.linear_model.LogisticRegression(\n",
    "    solver='lbfgs', penalty='l2', tol=1e-4, C=1, max_iter=100, class_weight='balanced')\n",
    "\n",
    "logreg_late.fit(xtrain, ytrain_late)\n",
    "\n",
    "print(logreg_late.score(xtest, ytest_late))\n",
    "print(sklearn.metrics.classification_report(ytest_late, logreg_preterm.predict(xtest), digits=4))"
   ]
  },
  {
   "cell_type": "code",
   "execution_count": 21,
   "id": "interim-reservoir",
   "metadata": {},
   "outputs": [
    {
     "ename": "ValueError",
     "evalue": "This solver needs samples of at least 2 classes in the data, but the data contains only one class: False",
     "output_type": "error",
     "traceback": [
      "\u001b[0;31m---------------------------------------------------------------------------\u001b[0m",
      "\u001b[0;31mValueError\u001b[0m                                Traceback (most recent call last)",
      "\u001b[0;32m<ipython-input-21-5401529c061c>\u001b[0m in \u001b[0;36m<module>\u001b[0;34m\u001b[0m\n\u001b[1;32m      2\u001b[0m     solver='lbfgs', penalty='l2', tol=1e-4, C=1, max_iter=100, class_weight='balanced')\n\u001b[1;32m      3\u001b[0m \u001b[0;34m\u001b[0m\u001b[0m\n\u001b[0;32m----> 4\u001b[0;31m \u001b[0mlogreg_early\u001b[0m\u001b[0;34m.\u001b[0m\u001b[0mfit\u001b[0m\u001b[0;34m(\u001b[0m\u001b[0mxtest\u001b[0m\u001b[0;34m,\u001b[0m \u001b[0mytest_early\u001b[0m\u001b[0;34m)\u001b[0m\u001b[0;34m\u001b[0m\u001b[0;34m\u001b[0m\u001b[0m\n\u001b[0m\u001b[1;32m      5\u001b[0m \u001b[0;34m\u001b[0m\u001b[0m\n\u001b[1;32m      6\u001b[0m \u001b[0mprint\u001b[0m\u001b[0;34m(\u001b[0m\u001b[0mlogreg_early\u001b[0m\u001b[0;34m.\u001b[0m\u001b[0mscore\u001b[0m\u001b[0;34m(\u001b[0m\u001b[0mxtest\u001b[0m\u001b[0;34m,\u001b[0m \u001b[0mytest_early\u001b[0m\u001b[0;34m)\u001b[0m\u001b[0;34m)\u001b[0m\u001b[0;34m\u001b[0m\u001b[0;34m\u001b[0m\u001b[0m\n",
      "\u001b[0;32m~/Documents/S2021/cpsc464/fair-child/venv/lib/python3.9/site-packages/sklearn/linear_model/_logistic.py\u001b[0m in \u001b[0;36mfit\u001b[0;34m(self, X, y, sample_weight)\u001b[0m\n\u001b[1;32m   1372\u001b[0m         \u001b[0mclasses_\u001b[0m \u001b[0;34m=\u001b[0m \u001b[0mself\u001b[0m\u001b[0;34m.\u001b[0m\u001b[0mclasses_\u001b[0m\u001b[0;34m\u001b[0m\u001b[0;34m\u001b[0m\u001b[0m\n\u001b[1;32m   1373\u001b[0m         \u001b[0;32mif\u001b[0m \u001b[0mn_classes\u001b[0m \u001b[0;34m<\u001b[0m \u001b[0;36m2\u001b[0m\u001b[0;34m:\u001b[0m\u001b[0;34m\u001b[0m\u001b[0;34m\u001b[0m\u001b[0m\n\u001b[0;32m-> 1374\u001b[0;31m             raise ValueError(\"This solver needs samples of at least 2 classes\"\n\u001b[0m\u001b[1;32m   1375\u001b[0m                              \u001b[0;34m\" in the data, but the data contains only one\"\u001b[0m\u001b[0;34m\u001b[0m\u001b[0;34m\u001b[0m\u001b[0m\n\u001b[1;32m   1376\u001b[0m                              \" class: %r\" % classes_[0])\n",
      "\u001b[0;31mValueError\u001b[0m: This solver needs samples of at least 2 classes in the data, but the data contains only one class: False"
     ]
    }
   ],
   "source": [
    "logreg_early = sklearn.linear_model.LogisticRegression(\n",
    "    solver='lbfgs', penalty='l2', tol=1e-4, C=1, max_iter=100, class_weight='balanced')\n",
    "\n",
    "logreg_early.fit(xtest, ytest_early)\n",
    "\n",
    "print(logreg_early.score(xtest, ytest_early))\n",
    "print(sklearn.metrics.classification_report(ytest_early, logreg_preterm.predict(xtest), digits=4))"
   ]
  },
  {
   "cell_type": "code",
   "execution_count": 9,
   "id": "handmade-nepal",
   "metadata": {},
   "outputs": [
    {
     "name": "stdout",
     "output_type": "stream",
     "text": [
      "True\n",
      "False\n",
      "True\n"
     ]
    }
   ],
   "source": [
    "print(yval_late.any())\n",
    "print(yval_early.any())\n",
    "print(yval_preterm.any())"
   ]
  },
  {
   "cell_type": "markdown",
   "id": "based-trauma",
   "metadata": {},
   "source": [
    "So we just don't have enough examples of early stillbirths in the synthetic data. Hopefully real data will ameliorate this."
   ]
  }
 ],
 "metadata": {
  "kernelspec": {
   "display_name": "Python 3",
   "language": "python",
   "name": "python3"
  },
  "language_info": {
   "codemirror_mode": {
    "name": "ipython",
    "version": 3
   },
   "file_extension": ".py",
   "mimetype": "text/x-python",
   "name": "python",
   "nbconvert_exporter": "python",
   "pygments_lexer": "ipython3",
   "version": "3.9.2"
  }
 },
 "nbformat": 4,
 "nbformat_minor": 5
}
