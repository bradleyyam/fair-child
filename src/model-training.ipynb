{
 "cells": [
  {
   "cell_type": "markdown",
   "id": "surface-observation",
   "metadata": {},
   "source": [
    "# Setup"
   ]
  },
  {
   "cell_type": "code",
   "execution_count": 2,
   "id": "valuable-overhead",
   "metadata": {},
   "outputs": [
    {
     "name": "stdout",
     "output_type": "stream",
     "text": [
      "INFO:tensorflow:Enabling eager execution\n",
      "INFO:tensorflow:Enabling v2 tensorshape\n",
      "INFO:tensorflow:Enabling resource variables\n",
      "INFO:tensorflow:Enabling tensor equality\n",
      "INFO:tensorflow:Enabling control flow v2\n"
     ]
    },
    {
     "data": {
      "text/plain": [
       "'C:\\\\Users\\\\bradl\\\\Projects\\\\fair-child'"
      ]
     },
     "execution_count": 2,
     "metadata": {},
     "output_type": "execute_result"
    }
   ],
   "source": [
    "import gc\n",
    "import numpy as np\n",
    "import os\n",
    "import sklearn.metrics\n",
    "import tensorflow as tf\n",
    "\n",
    "import models\n",
    "import util\n",
    "\n",
    "SEED = 5667\n",
    "np.random.seed(SEED)\n",
    "tf.random.set_seed(SEED)\n",
    "\n",
    "# Stay in top-level directory for consistency\n",
    "if '\\\\src' in os.getcwd():\n",
    "    os.chdir('..')\n",
    "\n",
    "os.getcwd()"
   ]
  },
  {
   "cell_type": "code",
   "execution_count": null,
   "id": "funky-hindu",
   "metadata": {},
   "outputs": [],
   "source": []
  },
  {
   "cell_type": "code",
   "execution_count": 3,
   "id": "brutal-novelty",
   "metadata": {},
   "outputs": [
    {
     "name": "stdout",
     "output_type": "stream",
     "text": [
      "Loading train data for preterm...\n",
      "\tdone.\n",
      "Loading test data for preterm...\n",
      "\tdone.\n",
      "Loading val data for preterm...\n",
      "\tdone.\n"
     ]
    },
    {
     "data": {
      "text/plain": [
       "0"
      ]
     },
     "execution_count": 3,
     "metadata": {},
     "output_type": "execute_result"
    }
   ],
   "source": [
    "# Load data\n",
    "xtrain, ytrain, xtest, ytest, xval, yval = util.load_preg_data_final(datafile='preterm')\n",
    "# Convert class labels to binary labels\n",
    "ytrain = util.outcome_to_binary(ytrain, outcome='preterm')  # Choose between early stillbirth, late stillbirth, and preterm\n",
    "ytest = util.outcome_to_binary(ytest, outcome='preterm')\n",
    "yval = util.outcome_to_binary(yval, outcome='preterm')\n",
    "\n",
    "# Garbage collect just in case\n",
    "gc.collect()"
   ]
  },
  {
   "cell_type": "markdown",
   "id": "proud-gentleman",
   "metadata": {},
   "source": [
    "# Logistic Regression\n",
    "\n",
    "## Train"
   ]
  },
  {
   "cell_type": "code",
   "execution_count": 16,
   "id": "alpha-river",
   "metadata": {},
   "outputs": [
    {
     "name": "stderr",
     "output_type": "stream",
     "text": [
      "c:\\python39\\lib\\site-packages\\sklearn\\linear_model\\_logistic.py:763: ConvergenceWarning: lbfgs failed to converge (status=1):\n",
      "STOP: TOTAL NO. of ITERATIONS REACHED LIMIT.\n",
      "\n",
      "Increase the number of iterations (max_iter) or scale the data as shown in:\n",
      "    https://scikit-learn.org/stable/modules/preprocessing.html\n",
      "Please also refer to the documentation for alternative solver options:\n",
      "    https://scikit-learn.org/stable/modules/linear_model.html#logistic-regression\n",
      "  n_iter_i = _check_optimize_result(\n"
     ]
    }
   ],
   "source": [
    "lr_late = models.build_logreg()\n",
    "models.fit_logreg(lr_late, xtrain, ytrain)\n",
    "models.save_pickle(lr_late, 'models/lr_late')"
   ]
  },
  {
   "cell_type": "code",
   "execution_count": 4,
   "id": "formal-review",
   "metadata": {},
   "outputs": [],
   "source": [
    "# Example load and evaluate\n",
    "# del lr_early\n",
    "# lr_early = models.load_pickle('models/lr_early')\n",
    "# print(lr_early.score(xtest, ytest))\n",
    "# print(sklearn.metrics.classification_report(ytest, lr_early.predict(xtest), digits=4))"
   ]
  },
  {
   "cell_type": "markdown",
   "id": "welsh-portuguese",
   "metadata": {},
   "source": [
    "# Gradient Boosting"
   ]
  },
  {
   "cell_type": "code",
   "execution_count": 5,
   "id": "opponent-tennessee",
   "metadata": {},
   "outputs": [
    {
     "name": "stdout",
     "output_type": "stream",
     "text": [
      "[100]\tvalid_0's auc: 0.839856\tvalid_0's binary_logloss: 0.0369084\n",
      "[200]\tvalid_0's auc: 0.841067\tvalid_0's binary_logloss: 0.0639765\n",
      "[300]\tvalid_0's auc: 0.841748\tvalid_0's binary_logloss: 0.0895245\n",
      "[400]\tvalid_0's auc: 0.842002\tvalid_0's binary_logloss: 0.113431\n",
      "[500]\tvalid_0's auc: 0.841903\tvalid_0's binary_logloss: 0.135838\n",
      "[600]\tvalid_0's auc: 0.842038\tvalid_0's binary_logloss: 0.156736\n",
      "[700]\tvalid_0's auc: 0.841989\tvalid_0's binary_logloss: 0.176169\n",
      "[800]\tvalid_0's auc: 0.842022\tvalid_0's binary_logloss: 0.194216\n",
      "[900]\tvalid_0's auc: 0.842154\tvalid_0's binary_logloss: 0.210931\n",
      "[1000]\tvalid_0's auc: 0.842218\tvalid_0's binary_logloss: 0.226401\n",
      "[1100]\tvalid_0's auc: 0.842233\tvalid_0's binary_logloss: 0.240696\n",
      "[1200]\tvalid_0's auc: 0.842311\tvalid_0's binary_logloss: 0.253867\n",
      "[1300]\tvalid_0's auc: 0.842373\tvalid_0's binary_logloss: 0.265998\n",
      "[1400]\tvalid_0's auc: 0.842437\tvalid_0's binary_logloss: 0.277155\n",
      "[1500]\tvalid_0's auc: 0.842479\tvalid_0's binary_logloss: 0.287402\n",
      "[1600]\tvalid_0's auc: 0.842482\tvalid_0's binary_logloss: 0.296816\n",
      "[1700]\tvalid_0's auc: 0.842493\tvalid_0's binary_logloss: 0.305428\n",
      "[1800]\tvalid_0's auc: 0.842547\tvalid_0's binary_logloss: 0.3133\n",
      "[1900]\tvalid_0's auc: 0.84255\tvalid_0's binary_logloss: 0.320479\n",
      "[2000]\tvalid_0's auc: 0.842556\tvalid_0's binary_logloss: 0.327023\n"
     ]
    }
   ],
   "source": [
    "gb_late = models.build_gbdt()\n",
    "models.fit_gbdt(gb_late, xtrain, ytrain, xval, yval)\n",
    "models.save_pickle(gb_late, 'models/gb_late')"
   ]
  },
  {
   "cell_type": "markdown",
   "id": "hazardous-circular",
   "metadata": {},
   "source": [
    "# Neural nets"
   ]
  },
  {
   "cell_type": "code",
   "execution_count": null,
   "id": "statutory-organic",
   "metadata": {},
   "outputs": [
    {
     "name": "stdout",
     "output_type": "stream",
     "text": [
      "Model: \"NN_lrelu\"\n",
      "_________________________________________________________________\n",
      "Layer (type)                 Output Shape              Param #   \n",
      "=================================================================\n",
      "input_1 (InputLayer)         [(None, 34)]              0         \n",
      "_________________________________________________________________\n",
      "lrelu1 (Dense)               (None, 70)                2450      \n",
      "_________________________________________________________________\n",
      "dropout (Dropout)            (None, 70)                0         \n",
      "_________________________________________________________________\n",
      "lrelu2 (Dense)               (None, 80)                5680      \n",
      "_________________________________________________________________\n",
      "dropout_1 (Dropout)          (None, 80)                0         \n",
      "_________________________________________________________________\n",
      "output (Dense)               (None, 1)                 81        \n",
      "=================================================================\n",
      "Total params: 8,211\n",
      "Trainable params: 8,211\n",
      "Non-trainable params: 0\n",
      "_________________________________________________________________\n",
      "Training model with class weights, {0: 0.5619369816112507, 1: 4.536360724988707}\n",
      "WARNING:tensorflow:From c:\\python39\\lib\\site-packages\\tensorflow\\python\\ops\\array_ops.py:5043: calling gather (from tensorflow.python.ops.array_ops) with validate_indices is deprecated and will be removed in a future version.\n",
      "Instructions for updating:\n",
      "The `validate_indices` argument has no effect. Indices are always validated on CPU and never validated on GPU.\n",
      "Epoch 1/20\n",
      "301892/301892 [==============================] - 228s 753us/step - loss: 1435.8976 - accuracy: 0.4717 - auc: 0.4996 - val_loss: 25.6035 - val_accuracy: 0.8894 - val_auc: 0.5000\n",
      "Epoch 2/20\n",
      "301892/301892 [==============================] - 233s 771us/step - loss: 1435.4010 - accuracy: 0.4715 - auc: 0.4990 - val_loss: 25.6035 - val_accuracy: 0.8894 - val_auc: 0.5000\n",
      "Epoch 3/20\n",
      "301892/301892 [==============================] - 235s 780us/step - loss: 1437.1789 - accuracy: 0.4719 - auc: 0.4988 - val_loss: 25.6035 - val_accuracy: 0.8894 - val_auc: 0.5000\n",
      "Epoch 4/20\n",
      "301892/301892 [==============================] - 229s 757us/step - loss: 1436.3076 - accuracy: 0.4720 - auc: 0.4995 - val_loss: 25.6035 - val_accuracy: 0.8894 - val_auc: 0.5000\n",
      "Epoch 5/20\n",
      "301892/301892 [==============================] - 230s 763us/step - loss: 1436.2358 - accuracy: 0.4719 - auc: 0.4995 - val_loss: 25.6035 - val_accuracy: 0.8894 - val_auc: 0.5000\n",
      "Epoch 6/20\n",
      "301892/301892 [==============================] - 234s 775us/step - loss: 1435.9878 - accuracy: 0.4719 - auc: 0.4999 - val_loss: 25.6035 - val_accuracy: 0.8894 - val_auc: 0.5000\n",
      "Epoch 7/20\n",
      "301892/301892 [==============================] - 230s 762us/step - loss: 1436.3381 - accuracy: 0.4717 - auc: 0.4995 - val_loss: 25.6035 - val_accuracy: 0.8894 - val_auc: 0.5000\n",
      "Epoch 8/20\n",
      "301892/301892 [==============================] - 230s 762us/step - loss: 1436.2118 - accuracy: 0.4711 - auc: 0.4985 - val_loss: 25.6035 - val_accuracy: 0.8894 - val_auc: 0.5000\n",
      "Epoch 9/20\n",
      "301892/301892 [==============================] - 230s 763us/step - loss: 1435.1036 - accuracy: 0.4722 - auc: 0.4998 - val_loss: 25.6035 - val_accuracy: 0.8894 - val_auc: 0.5000\n",
      "Epoch 10/20\n",
      "301892/301892 [==============================] - 230s 762us/step - loss: 1437.4409 - accuracy: 0.4716 - auc: 0.4990 - val_loss: 25.6035 - val_accuracy: 0.8894 - val_auc: 0.5000\n",
      "Epoch 11/20\n",
      "301892/301892 [==============================] - 231s 765us/step - loss: 1436.9667 - accuracy: 0.4715 - auc: 0.4989 - val_loss: 25.6035 - val_accuracy: 0.8894 - val_auc: 0.5000\n",
      "Epoch 12/20\n",
      "266937/301892 [=========================>....] - ETA: 24s - loss: 1436.3229 - accuracy: 0.4716 - auc: 0.4994"
     ]
    }
   ],
   "source": [
    "from importlib import reload\n",
    "reload(models)\n",
    "\n",
    "lrelu_late = models.build_NN_lrelu(input_len=xtrain.shape[1])  # Assuming xtrain is (batch_size, n_features)\n",
    "lrelu_late.summary()\n",
    "\n",
    "models.fit_NN_lrelu(lrelu_late, xtrain, ytrain, xval, yval)\n",
    "models.save_NN(lrelu_late, 'models/lrelu_preterm')"
   ]
  },
  {
   "cell_type": "code",
   "execution_count": 7,
   "id": "interpreted-tennessee",
   "metadata": {},
   "outputs": [],
   "source": [
    "# del lrelu_early\n",
    "# lrelu_early = models.load_NN('models/lrelu_early')\n",
    "# lrelu_early.evaluate(xtest, ytest)  # Output is [loss, accuracy, auc]"
   ]
  },
  {
   "cell_type": "code",
   "execution_count": 8,
   "id": "smooth-exploration",
   "metadata": {},
   "outputs": [
    {
     "name": "stdout",
     "output_type": "stream",
     "text": [
      "Model: \"NN_selu\"\n",
      "_________________________________________________________________\n",
      "Layer (type)                 Output Shape              Param #   \n",
      "=================================================================\n",
      "input_2 (InputLayer)         [(None, 27)]              0         \n",
      "_________________________________________________________________\n",
      "selu1 (Dense)                (None, 27)                756       \n",
      "_________________________________________________________________\n",
      "alpha_dropout (AlphaDropout) (None, 27)                0         \n",
      "_________________________________________________________________\n",
      "selu2 (Dense)                (None, 27)                756       \n",
      "_________________________________________________________________\n",
      "alpha_dropout_1 (AlphaDropou (None, 27)                0         \n",
      "_________________________________________________________________\n",
      "selu3 (Dense)                (None, 27)                756       \n",
      "_________________________________________________________________\n",
      "alpha_dropout_2 (AlphaDropou (None, 27)                0         \n",
      "_________________________________________________________________\n",
      "selu4 (Dense)                (None, 27)                756       \n",
      "_________________________________________________________________\n",
      "alpha_dropout_3 (AlphaDropou (None, 27)                0         \n",
      "_________________________________________________________________\n",
      "output (Dense)               (None, 1)                 28        \n",
      "=================================================================\n",
      "Total params: 3,052\n",
      "Trainable params: 3,052\n",
      "Non-trainable params: 0\n",
      "_________________________________________________________________\n",
      "Training model with class weights, {0: 0.5007879505807132, 1: 317.77878133385695}\n",
      "Epoch 1/10\n",
      "37933/37933 [==============================] - 72s 2ms/step - loss: 0.6061 - accuracy: 1.0140e-05 - auc: 0.6964 - val_loss: 0.2907 - val_accuracy: 5.9110e-04 - val_auc: 0.8173\n",
      "Epoch 2/10\n",
      "37933/37933 [==============================] - 75s 2ms/step - loss: 0.4885 - accuracy: 4.2002e-05 - auc: 0.8073 - val_loss: 0.3294 - val_accuracy: 6.6535e-04 - val_auc: 0.8254\n",
      "Epoch 3/10\n",
      "37933/37933 [==============================] - 71s 2ms/step - loss: 0.4865 - accuracy: 3.0981e-05 - auc: 0.8108 - val_loss: 0.5596 - val_accuracy: 6.0552e-04 - val_auc: 0.8256\n",
      "Epoch 4/10\n",
      "37933/37933 [==============================] - 72s 2ms/step - loss: 0.4831 - accuracy: 3.1989e-05 - auc: 0.8171 - val_loss: 0.5755 - val_accuracy: 6.6679e-04 - val_auc: 0.8293\n",
      "Epoch 5/10\n",
      "37933/37933 [==============================] - 73s 2ms/step - loss: 0.4758 - accuracy: 3.3362e-05 - auc: 0.8196 - val_loss: 0.3744 - val_accuracy: 6.6679e-04 - val_auc: 0.8276\n",
      "Epoch 6/10\n",
      "37933/37933 [==============================] - 69s 2ms/step - loss: 0.4766 - accuracy: 4.2183e-05 - auc: 0.8218 - val_loss: 0.4237 - val_accuracy: 6.7905e-04 - val_auc: 0.8285\n",
      "Epoch 7/10\n",
      "37933/37933 [==============================] - 69s 2ms/step - loss: 0.4794 - accuracy: 2.4058e-05 - auc: 0.8217 - val_loss: 0.3064 - val_accuracy: 6.6679e-04 - val_auc: 0.8308\n",
      "Epoch 8/10\n",
      "37933/37933 [==============================] - 71s 2ms/step - loss: 0.4789 - accuracy: 2.1144e-05 - auc: 0.8249 - val_loss: 0.5260 - val_accuracy: 6.6102e-04 - val_auc: 0.8312\n",
      "Epoch 9/10\n",
      "37933/37933 [==============================] - 71s 2ms/step - loss: 0.4751 - accuracy: 2.0555e-05 - auc: 0.8241 - val_loss: 0.3556 - val_accuracy: 7.3527e-04 - val_auc: 0.8291\n",
      "Epoch 10/10\n",
      "37933/37933 [==============================] - 71s 2ms/step - loss: 0.4790 - accuracy: 2.5261e-05 - auc: 0.8227 - val_loss: 0.5692 - val_accuracy: 6.6679e-04 - val_auc: 0.8310\n",
      "INFO:tensorflow:Assets written to: models/selu_late\\assets\n"
     ]
    },
    {
     "name": "stderr",
     "output_type": "stream",
     "text": [
      "INFO:tensorflow:Assets written to: models/selu_late\\assets\n"
     ]
    }
   ],
   "source": [
    "selu_late = models.build_NN_selu(input_len=xtrain.shape[1])  # Assuming xtrain is (batch_size, n_features)\n",
    "selu_late.summary()\n",
    "\n",
    "models.fit_NN_selu(selu_late, xtrain, ytrain, xval, yval)\n",
    "models.save_NN(selu_late, 'models/selu_late')"
   ]
  },
  {
   "cell_type": "code",
   "execution_count": 9,
   "id": "incorrect-ghana",
   "metadata": {},
   "outputs": [],
   "source": [
    "# del selu_early\n",
    "# selu_early = models.load_NN('models/selu_early')\n",
    "# selu_early.evaluate(xtest, ytest)  # Output is [loss, accuracy, auc]"
   ]
  }
 ],
 "metadata": {
  "kernelspec": {
   "display_name": "Python 3",
   "language": "python",
   "name": "python3"
  },
  "language_info": {
   "codemirror_mode": {
    "name": "ipython",
    "version": 3
   },
   "file_extension": ".py",
   "mimetype": "text/x-python",
   "name": "python",
   "nbconvert_exporter": "python",
   "pygments_lexer": "ipython3",
   "version": "3.9.2"
  }
 },
 "nbformat": 4,
 "nbformat_minor": 5
}
