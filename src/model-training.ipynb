{
 "cells": [
  {
   "cell_type": "markdown",
   "metadata": {},
   "source": [
    "# Setup"
   ]
  },
  {
   "cell_type": "code",
   "execution_count": 11,
   "metadata": {},
   "outputs": [],
   "source": [
    "import gc\n",
    "import numpy as np\n",
    "import os\n",
    "import sklearn.metrics\n",
    "import tensorflow as tf\n",
    "\n",
    "import models\n",
    "import util\n",
    "\n",
    "SEED = 2021\n",
    "np.random.seed(SEED)\n",
    "tf.random.set_seed(SEED)\n",
    "\n",
    "# Stay in top-level directory for consistency\n",
    "if '/src' in os.getcwd():\n",
    "    os.chdir('..')"
   ]
  },
  {
   "cell_type": "code",
   "execution_count": 12,
   "metadata": {},
   "outputs": [
    {
     "name": "stdout",
     "output_type": "stream",
     "text": [
      "Loading train data for stillbirth...\n",
      "\tdone.\n",
      "Loading test data for stillbirth...\n",
      "\tdone.\n",
      "Loading val data for stillbirth...\n",
      "\tdone.\n"
     ]
    },
    {
     "data": {
      "text/plain": "9614"
     },
     "execution_count": 12,
     "metadata": {},
     "output_type": "execute_result"
    }
   ],
   "source": [
    "# Load data\n",
    "xtrain, ytrain, xtest, ytest, xval, yval = util.load_preg_data_final(datafile='stillbirth')\n",
    "# Convert class labels to binary labels\n",
    "ytrain = util.outcome_to_binary(ytrain, outcome='early stillbirth')  # Choose between early stillbirth, late stillbirth, and preterm\n",
    "ytest = util.outcome_to_binary(ytest, outcome='early stillbirth')\n",
    "yval = util.outcome_to_binary(yval, outcome='early stillbirth')\n",
    "\n",
    "# Garbage collect just in case\n",
    "gc.collect()"
   ]
  },
  {
   "cell_type": "markdown",
   "metadata": {},
   "source": [
    "# Logistic Regression\n",
    "\n",
    "## Train"
   ]
  },
  {
   "cell_type": "code",
   "execution_count": null,
   "metadata": {},
   "outputs": [],
   "source": [
    "lr_early = models.build_logreg()\n",
    "models.fit_logreg(lr_early, xtrain, ytrain)\n",
    "models.save_pickle(lr_early, 'models/lr_early')"
   ]
  },
  {
   "cell_type": "code",
   "execution_count": null,
   "metadata": {},
   "outputs": [],
   "source": [
    "# Example load and evaluate\n",
    "# del lr_early\n",
    "# lr_early = models.load_pickle('models/lr_early')\n",
    "# print(lr_early.score(xtest, ytest))\n",
    "# print(sklearn.metrics.classification_report(ytest, lr_early.predict(xtest), digits=4))"
   ]
  },
  {
   "cell_type": "markdown",
   "metadata": {},
   "source": [
    "# Gradient Boosting"
   ]
  },
  {
   "cell_type": "code",
   "execution_count": null,
   "metadata": {},
   "outputs": [],
   "source": [
    "gb_early = models.build_gbdt()\n",
    "models.fit_gbdt(gb_early, xtrain, ytrain, xval, yval)\n",
    "models.save_pickle(gb_early, 'models/gb_early')"
   ]
  },
  {
   "cell_type": "markdown",
   "metadata": {},
   "source": [
    "# Neural nets"
   ]
  },
  {
   "cell_type": "code",
   "execution_count": null,
   "metadata": {},
   "outputs": [],
   "source": [
    "from importlib import reload\n",
    "reload(models)\n",
    "\n",
    "lrelu_early = models.build_NN_lrelu(input_len=xtrain.shape[1])  # Assuming xtrain is (batch_size, n_features)\n",
    "lrelu_early.summary()\n",
    "\n",
    "models.fit_NN_lrelu(lrelu_early, xtrain, ytrain, xval, yval)\n",
    "models.save_NN(lrelu_early, 'models/lrelu_early')"
   ]
  },
  {
   "cell_type": "code",
   "execution_count": null,
   "metadata": {},
   "outputs": [],
   "source": [
    "# del lrelu_early\n",
    "# lrelu_early = models.load_NN('models/lrelu_early')\n",
    "# lrelu_early.evaluate(xtest, ytest)  # Output is [loss, accuracy, auc]"
   ]
  },
  {
   "cell_type": "code",
   "execution_count": null,
   "metadata": {},
   "outputs": [],
   "source": [
    "selu_early = models.build_NN_selu(input_len=xtrain.shape[1])  # Assuming xtrain is (batch_size, n_features)\n",
    "selu_early.summary()\n",
    "\n",
    "models.fit_NN_selu(selu_early, xtrain, ytrain, xval, yval)\n",
    "models.save_NN(selu_early, 'models/selu_early')"
   ]
  },
  {
   "cell_type": "code",
   "execution_count": null,
   "metadata": {},
   "outputs": [],
   "source": [
    "# del selu_early\n",
    "# selu_early = models.load_NN('models/selu_early')\n",
    "# selu_early.evaluate(xtest, ytest)  # Output is [loss, accuracy, auc]"
   ]
  }
 ],
 "metadata": {
  "kernelspec": {
   "display_name": "Python 3.9.2 64-bit ('venv')",
   "metadata": {
    "interpreter": {
     "hash": "b61fea741fbe03daed72c4da298e8e8eaab54de8e50b0bc374a5b705e2fb6e53"
    }
   },
   "name": "python3"
  },
  "language_info": {
   "codemirror_mode": {
    "name": "ipython",
    "version": 3
   },
   "file_extension": ".py",
   "mimetype": "text/x-python",
   "name": "python",
   "nbconvert_exporter": "python",
   "pygments_lexer": "ipython3",
   "version": "3.9.2"
  }
 },
 "nbformat": 4,
 "nbformat_minor": 5
}