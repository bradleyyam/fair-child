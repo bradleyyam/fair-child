{
 "cells": [
  {
   "cell_type": "markdown",
   "metadata": {},
   "source": [
    "# Setup"
   ]
  },
  {
   "cell_type": "code",
   "execution_count": 7,
   "metadata": {},
   "outputs": [],
   "source": [
    "import numpy as np\n",
    "import os\n",
    "import sklearn.metrics\n",
    "\n",
    "import models\n",
    "import util\n",
    "\n",
    "SEED = 2021\n",
    "np.random.seed(SEED)\n",
    "\n",
    "# Stay in top-level directory for consistency\n",
    "if '/src' in os.getcwd():\n",
    "    os.chdir('..')"
   ]
  },
  {
   "cell_type": "code",
   "execution_count": 8,
   "metadata": {},
   "outputs": [],
   "source": [
    "# Load data\n",
    "xtrain, ytrain, xtest, ytest, xval, yval = util.load_preg_data(sim=True, onehots=True)\n",
    "# Create binary labels\n",
    "ytrain_early, ytrain_late, ytrain_preterm = util.preg_outcome_to_binaries(ytrain)\n",
    "ytest_early, ytest_late, ytest_preterm = util.preg_outcome_to_binaries(ytest)\n",
    "yval_early, yval_late, yval_preterm = util.preg_outcome_to_binaries(yval)"
   ]
  },
  {
   "cell_type": "markdown",
   "metadata": {},
   "source": [
    "# Logistic Regression\n",
    "\n",
    "## Train"
   ]
  },
  {
   "cell_type": "code",
   "execution_count": 9,
   "metadata": {},
   "outputs": [
    {
     "name": "stderr",
     "output_type": "stream",
     "text": [
      "/home/cove/Documents/S2021/cpsc464/fair-child/venv/lib/python3.9/site-packages/sklearn/linear_model/_logistic.py:763: ConvergenceWarning: lbfgs failed to converge (status=1):\n",
      "STOP: TOTAL NO. of ITERATIONS REACHED LIMIT.\n",
      "\n",
      "Increase the number of iterations (max_iter) or scale the data as shown in:\n",
      "    https://scikit-learn.org/stable/modules/preprocessing.html\n",
      "Please also refer to the documentation for alternative solver options:\n",
      "    https://scikit-learn.org/stable/modules/linear_model.html#logistic-regression\n",
      "  n_iter_i = _check_optimize_result(\n"
     ]
    }
   ],
   "source": [
    "lr_preterm = models.build_logreg()\n",
    "models.fit_logreg(lr_preterm, xtrain, ytrain_preterm)\n",
    "models.save_pickle(lr_preterm, 'models/lr_preterm')"
   ]
  },
  {
   "cell_type": "code",
   "execution_count": 10,
   "metadata": {},
   "outputs": [
    {
     "name": "stdout",
     "output_type": "stream",
     "text": [
      "0.9695571955719557\n",
      "              precision    recall  f1-score   support\n",
      "\n",
      "           0     0.9646    0.9737    0.9691       532\n",
      "           1     0.9744    0.9656    0.9700       552\n",
      "\n",
      "    accuracy                         0.9696      1084\n",
      "   macro avg     0.9695    0.9696    0.9696      1084\n",
      "weighted avg     0.9696    0.9696    0.9696      1084\n",
      "\n"
     ]
    }
   ],
   "source": [
    "# Example load and evaluate\n",
    "del lr_preterm\n",
    "lr_preterm = models.load_pickle('models/lr_preterm')\n",
    "print(lr_preterm.score(xtest, ytest_preterm))\n",
    "print(sklearn.metrics.classification_report(ytest_preterm, lr_preterm.predict(xtest), digits=4))"
   ]
  },
  {
   "cell_type": "markdown",
   "metadata": {},
   "source": [
    "# Gradient Boosting"
   ]
  },
  {
   "cell_type": "code",
   "execution_count": 11,
   "metadata": {},
   "outputs": [
    {
     "name": "stdout",
     "output_type": "stream",
     "text": [
      "[100]\tvalid_0's auc: 0.995474\tvalid_0's binary_logloss: 0.610603\n",
      "[200]\tvalid_0's auc: 0.995474\tvalid_0's binary_logloss: 0.542087\n",
      "[300]\tvalid_0's auc: 0.995474\tvalid_0's binary_logloss: 0.484359\n",
      "[400]\tvalid_0's auc: 0.995474\tvalid_0's binary_logloss: 0.435218\n",
      "[500]\tvalid_0's auc: 0.995474\tvalid_0's binary_logloss: 0.39304\n",
      "[600]\tvalid_0's auc: 0.995474\tvalid_0's binary_logloss: 0.356594\n",
      "[700]\tvalid_0's auc: 0.995474\tvalid_0's binary_logloss: 0.324925\n",
      "[800]\tvalid_0's auc: 0.995474\tvalid_0's binary_logloss: 0.297276\n",
      "[900]\tvalid_0's auc: 0.995474\tvalid_0's binary_logloss: 0.273042\n",
      "[1000]\tvalid_0's auc: 0.995474\tvalid_0's binary_logloss: 0.251728\n",
      "[1100]\tvalid_0's auc: 0.995474\tvalid_0's binary_logloss: 0.232927\n",
      "[1200]\tvalid_0's auc: 0.995474\tvalid_0's binary_logloss: 0.216301\n",
      "[1300]\tvalid_0's auc: 0.995474\tvalid_0's binary_logloss: 0.201565\n",
      "[1400]\tvalid_0's auc: 0.995474\tvalid_0's binary_logloss: 0.188479\n",
      "[1500]\tvalid_0's auc: 0.998312\tvalid_0's binary_logloss: 0.175566\n",
      "[1600]\tvalid_0's auc: 0.998447\tvalid_0's binary_logloss: 0.163965\n",
      "[1700]\tvalid_0's auc: 0.998494\tvalid_0's binary_logloss: 0.153692\n",
      "[1800]\tvalid_0's auc: 0.998494\tvalid_0's binary_logloss: 0.144475\n",
      "[1900]\tvalid_0's auc: 0.998494\tvalid_0's binary_logloss: 0.136257\n",
      "[2000]\tvalid_0's auc: 0.998494\tvalid_0's binary_logloss: 0.129008\n"
     ]
    }
   ],
   "source": [
    "gb_preterm = models.build_gbdt()\n",
    "models.fit_gbdt(gb_preterm, xtrain, ytrain_preterm, xval, yval_preterm)\n",
    "models.save_pickle(gb_preterm, 'models/gb_preterm')"
   ]
  },
  {
   "cell_type": "markdown",
   "metadata": {},
   "source": [
    "# Neural nets"
   ]
  },
  {
   "cell_type": "code",
   "execution_count": 12,
   "metadata": {},
   "outputs": [
    {
     "name": "stdout",
     "output_type": "stream",
     "text": [
      "Training model with class weights, {0: 1.0176706827309236, 1: 0.9829325058184639}\n",
      "Epoch 1/10\n",
      "30/30 [==============================] - 2s 14ms/step - loss: 0.7998 - accuracy: 0.0000e+00 - auc: 0.5618 - val_loss: 0.5143 - val_accuracy: 0.0000e+00 - val_auc: 0.8165\n",
      "Epoch 2/10\n",
      "30/30 [==============================] - 0s 5ms/step - loss: 0.6691 - accuracy: 0.0000e+00 - auc: 0.6672 - val_loss: 0.4337 - val_accuracy: 0.0000e+00 - val_auc: 0.8851\n",
      "Epoch 3/10\n",
      "30/30 [==============================] - 0s 6ms/step - loss: 0.5532 - accuracy: 0.0000e+00 - auc: 0.7897 - val_loss: 0.3050 - val_accuracy: 0.0000e+00 - val_auc: 0.9510\n",
      "Epoch 4/10\n",
      "30/30 [==============================] - 0s 5ms/step - loss: 0.4402 - accuracy: 0.0000e+00 - auc: 0.8769 - val_loss: 0.2388 - val_accuracy: 0.0000e+00 - val_auc: 0.9792\n",
      "Epoch 5/10\n",
      "30/30 [==============================] - 0s 5ms/step - loss: 0.3276 - accuracy: 0.0000e+00 - auc: 0.9336 - val_loss: 0.1625 - val_accuracy: 0.0000e+00 - val_auc: 0.9880\n",
      "Epoch 6/10\n",
      "30/30 [==============================] - 0s 4ms/step - loss: 0.2662 - accuracy: 0.0000e+00 - auc: 0.9569 - val_loss: 0.1401 - val_accuracy: 0.0000e+00 - val_auc: 0.9915\n",
      "Epoch 7/10\n",
      "30/30 [==============================] - 0s 4ms/step - loss: 0.2582 - accuracy: 0.0000e+00 - auc: 0.9600 - val_loss: 0.1226 - val_accuracy: 0.0000e+00 - val_auc: 0.9921\n",
      "Epoch 8/10\n",
      "30/30 [==============================] - 0s 3ms/step - loss: 0.2194 - accuracy: 0.0000e+00 - auc: 0.9709 - val_loss: 0.1178 - val_accuracy: 0.0000e+00 - val_auc: 0.9927\n",
      "Epoch 9/10\n",
      "30/30 [==============================] - 0s 4ms/step - loss: 0.1789 - accuracy: 0.0000e+00 - auc: 0.9806 - val_loss: 0.1143 - val_accuracy: 0.0000e+00 - val_auc: 0.9931\n",
      "Epoch 10/10\n",
      "30/30 [==============================] - 0s 4ms/step - loss: 0.1893 - accuracy: 0.0000e+00 - auc: 0.9779 - val_loss: 0.1143 - val_accuracy: 0.0000e+00 - val_auc: 0.9931\n",
      "INFO:tensorflow:Assets written to: models/selu_preterm/assets\n"
     ]
    }
   ],
   "source": [
    "selu_preterm = models.build_NN_selu(input_len=xtrain.shape[1])  # Assuming xtrain is (batch_size, n_features)\n",
    "models.fit_NN_selu(selu_preterm, xtrain, ytrain_preterm, xval, yval_preterm)\n",
    "models.save_NN(selu_preterm, 'models/selu_preterm')"
   ]
  },
  {
   "cell_type": "code",
   "execution_count": 13,
   "metadata": {},
   "outputs": [
    {
     "name": "stdout",
     "output_type": "stream",
     "text": [
      "34/34 [==============================] - 0s 847us/step - loss: 0.1090 - accuracy: 0.0000e+00 - auc: 0.9936\n"
     ]
    },
    {
     "data": {
      "text/plain": "[0.10901693999767303, 0.0, 0.9936066269874573]"
     },
     "execution_count": 13,
     "metadata": {},
     "output_type": "execute_result"
    }
   ],
   "source": [
    "del selu_preterm\n",
    "selu_preterm = models.load_NN('models/selu_preterm')\n",
    "selu_preterm.evaluate(xtest, ytest_preterm)  # Output is [loss, accuracy, auc]"
   ]
  }
 ],
 "metadata": {
  "kernelspec": {
   "display_name": "Python 3.9.2 64-bit ('venv')",
   "metadata": {
    "interpreter": {
     "hash": "b61fea741fbe03daed72c4da298e8e8eaab54de8e50b0bc374a5b705e2fb6e53"
    }
   },
   "name": "python3"
  },
  "language_info": {
   "codemirror_mode": {
    "name": "ipython",
    "version": 3
   },
   "file_extension": ".py",
   "mimetype": "text/x-python",
   "name": "python",
   "nbconvert_exporter": "python",
   "pygments_lexer": "ipython3",
   "version": "3.9.2"
  }
 },
 "nbformat": 4,
 "nbformat_minor": 5
}