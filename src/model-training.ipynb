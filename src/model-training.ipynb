{
 "cells": [
  {
   "cell_type": "markdown",
   "id": "electrical-assurance",
   "metadata": {},
   "source": [
    "# Setup"
   ]
  },
  {
   "cell_type": "code",
   "execution_count": 1,
   "id": "confirmed-radius",
   "metadata": {},
   "outputs": [],
   "source": [
    "import numpy as np\n",
    "import os\n",
    "import sklearn.metrics\n",
    "\n",
    "import models\n",
    "import util\n",
    "\n",
    "SEED = 2021\n",
    "np.random.seed(SEED)\n",
    "\n",
    "# Stay in top-level directory for consistency\n",
    "if '/src' in os.getcwd():\n",
    "    os.chdir('..')"
   ]
  },
  {
   "cell_type": "code",
   "execution_count": 2,
   "id": "biological-individual",
   "metadata": {},
   "outputs": [],
   "source": [
    "# Load data\n",
    "xtrain, ytrain, xtest, ytest, xval, yval = util.load_preg_data(sim=True, onehots=True)\n",
    "# Create binary labels\n",
    "ytrain_early, ytrain_late, ytrain_preterm = util.preg_outcome_to_binaries(ytrain)\n",
    "ytest_early, ytest_late, ytest_preterm = util.preg_outcome_to_binaries(ytest)\n",
    "yval_early, yval_late, yval_preterm = util.preg_outcome_to_binaries(yval)"
   ]
  },
  {
   "cell_type": "markdown",
   "id": "super-majority",
   "metadata": {},
   "source": [
    "# Logistic Regression\n",
    "\n",
    "## Train"
   ]
  },
  {
   "cell_type": "code",
   "execution_count": 11,
   "id": "sealed-double",
   "metadata": {},
   "outputs": [
    {
     "name": "stderr",
     "output_type": "stream",
     "text": [
      "/home/cove/Documents/S2021/cpsc464/fair-child/venv/lib/python3.9/site-packages/sklearn/linear_model/_logistic.py:763: ConvergenceWarning: lbfgs failed to converge (status=1):\n",
      "STOP: TOTAL NO. of ITERATIONS REACHED LIMIT.\n",
      "\n",
      "Increase the number of iterations (max_iter) or scale the data as shown in:\n",
      "    https://scikit-learn.org/stable/modules/preprocessing.html\n",
      "Please also refer to the documentation for alternative solver options:\n",
      "    https://scikit-learn.org/stable/modules/linear_model.html#logistic-regression\n",
      "  n_iter_i = _check_optimize_result(\n"
     ]
    },
    {
     "data": {
      "text/plain": [
       "LogisticRegression(C=1, class_weight='balanced')"
      ]
     },
     "execution_count": 11,
     "metadata": {},
     "output_type": "execute_result"
    }
   ],
   "source": [
    "lr_preterm = models.build_logreg()\n",
    "lr_preterm.fit(xtrain, ytrain_preterm)"
   ]
  },
  {
   "cell_type": "code",
   "execution_count": 20,
   "id": "mysterious-message",
   "metadata": {},
   "outputs": [],
   "source": [
    "# lr_late = models.build_logreg()\n",
    "# lr_late.fit(xtrain, ytrain_late)"
   ]
  },
  {
   "cell_type": "code",
   "execution_count": 21,
   "id": "comic-northeast",
   "metadata": {},
   "outputs": [],
   "source": [
    "# lr_early = models.build_logreg()\n",
    "# lr_early.fit(xtest, ytest_early)"
   ]
  },
  {
   "cell_type": "markdown",
   "id": "acute-origin",
   "metadata": {},
   "source": [
    "## Eval"
   ]
  },
  {
   "cell_type": "code",
   "execution_count": 22,
   "id": "developmental-spring",
   "metadata": {},
   "outputs": [
    {
     "name": "stdout",
     "output_type": "stream",
     "text": [
      "0.9695571955719557\n",
      "              precision    recall  f1-score   support\n",
      "\n",
      "       False     0.9646    0.9737    0.9691       532\n",
      "        True     0.9744    0.9656    0.9700       552\n",
      "\n",
      "    accuracy                         0.9696      1084\n",
      "   macro avg     0.9695    0.9696    0.9696      1084\n",
      "weighted avg     0.9696    0.9696    0.9696      1084\n",
      "\n"
     ]
    }
   ],
   "source": [
    "print(lr_preterm.score(xtest, ytest_preterm))\n",
    "print(sklearn.metrics.classification_report(ytest_preterm, lr_preterm.predict(xtest), digits=4))\n",
    "\n",
    "# print(lr_late.score(xtest, ytest_late))\n",
    "# print(sklearn.metrics.classification_report(ytest_late, lr_late.predict(xtest), digits=4))\n",
    "\n",
    "# print(lr_early.score(xtest, ytest_early))\n",
    "# print(sklearn.metrics.classification_report(ytest_early, logreg_preterm.predict(xtest), digits=4))"
   ]
  },
  {
   "cell_type": "code",
   "execution_count": 19,
   "id": "amateur-green",
   "metadata": {},
   "outputs": [
    {
     "name": "stdout",
     "output_type": "stream",
     "text": [
      "True\n",
      "True\n",
      "False\n"
     ]
    }
   ],
   "source": [
    "print(yval_preterm.any())\n",
    "# print(yval_late.any())\n",
    "# print(yval_early.any())"
   ]
  },
  {
   "cell_type": "markdown",
   "id": "narrow-virtue",
   "metadata": {},
   "source": [
    "So we just don't have enough examples of early stillbirths in the synthetic data. Hopefully real data will ameliorate this."
   ]
  },
  {
   "cell_type": "markdown",
   "id": "strange-butterfly",
   "metadata": {},
   "source": [
    "# Gradient Boosting"
   ]
  },
  {
   "cell_type": "code",
   "execution_count": 26,
   "id": "moved-scottish",
   "metadata": {},
   "outputs": [
    {
     "name": "stdout",
     "output_type": "stream",
     "text": [
      "[100]\tvalid_0's auc: 0.995474\tvalid_0's binary_logloss: 0.610603\n",
      "[200]\tvalid_0's auc: 0.995474\tvalid_0's binary_logloss: 0.542087\n",
      "[300]\tvalid_0's auc: 0.995474\tvalid_0's binary_logloss: 0.484359\n",
      "[400]\tvalid_0's auc: 0.995474\tvalid_0's binary_logloss: 0.435218\n",
      "[500]\tvalid_0's auc: 0.995474\tvalid_0's binary_logloss: 0.39304\n",
      "[600]\tvalid_0's auc: 0.995474\tvalid_0's binary_logloss: 0.356594\n",
      "[700]\tvalid_0's auc: 0.995474\tvalid_0's binary_logloss: 0.324925\n",
      "[800]\tvalid_0's auc: 0.995474\tvalid_0's binary_logloss: 0.297276\n",
      "[900]\tvalid_0's auc: 0.995474\tvalid_0's binary_logloss: 0.273042\n",
      "[1000]\tvalid_0's auc: 0.995474\tvalid_0's binary_logloss: 0.251728\n",
      "[1100]\tvalid_0's auc: 0.995474\tvalid_0's binary_logloss: 0.232927\n",
      "[1200]\tvalid_0's auc: 0.995474\tvalid_0's binary_logloss: 0.216301\n",
      "[1300]\tvalid_0's auc: 0.995474\tvalid_0's binary_logloss: 0.201565\n",
      "[1400]\tvalid_0's auc: 0.995474\tvalid_0's binary_logloss: 0.188479\n",
      "[1500]\tvalid_0's auc: 0.998312\tvalid_0's binary_logloss: 0.175566\n",
      "[1600]\tvalid_0's auc: 0.998447\tvalid_0's binary_logloss: 0.163965\n",
      "[1700]\tvalid_0's auc: 0.998494\tvalid_0's binary_logloss: 0.153692\n",
      "[1800]\tvalid_0's auc: 0.998494\tvalid_0's binary_logloss: 0.144475\n",
      "[1900]\tvalid_0's auc: 0.998494\tvalid_0's binary_logloss: 0.136257\n",
      "[2000]\tvalid_0's auc: 0.998494\tvalid_0's binary_logloss: 0.129008\n"
     ]
    },
    {
     "data": {
      "text/plain": [
       "LGBMClassifier(is_unbalance=True, learning_rate=0.001, min_child_samples=500,\n",
       "               n_estimators=2000, num_leaves=48, objective='binary')"
      ]
     },
     "execution_count": 26,
     "metadata": {},
     "output_type": "execute_result"
    }
   ],
   "source": [
    "gb_preterm = models.build_gbdt()\n",
    "gb_preterm.fit(xtrain, ytrain_preterm, eval_set=(xval, yval_preterm), eval_metric='auc', verbose=100)"
   ]
  }
 ],
 "metadata": {
  "kernelspec": {
   "display_name": "Python 3",
   "language": "python",
   "name": "python3"
  },
  "language_info": {
   "codemirror_mode": {
    "name": "ipython",
    "version": 3
   },
   "file_extension": ".py",
   "mimetype": "text/x-python",
   "name": "python",
   "nbconvert_exporter": "python",
   "pygments_lexer": "ipython3",
   "version": "3.9.2"
  }
 },
 "nbformat": 4,
 "nbformat_minor": 5
}
