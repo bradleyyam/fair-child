{
 "cells": [
  {
   "cell_type": "markdown",
   "metadata": {},
   "source": [
    "# Setup"
   ]
  },
  {
   "cell_type": "code",
   "execution_count": 1,
   "metadata": {},
   "outputs": [
    {
     "name": "stdout",
     "output_type": "stream",
     "text": [
      "INFO:tensorflow:Enabling eager execution\n",
      "INFO:tensorflow:Enabling v2 tensorshape\n",
      "INFO:tensorflow:Enabling resource variables\n",
      "INFO:tensorflow:Enabling tensor equality\n",
      "INFO:tensorflow:Enabling control flow v2\n"
     ]
    }
   ],
   "source": [
    "import numpy as np\n",
    "import os\n",
    "import sklearn.metrics\n",
    "\n",
    "import models\n",
    "import util\n",
    "\n",
    "SEED = 2021\n",
    "np.random.seed(SEED)\n",
    "\n",
    "# Stay in top-level directory for consistency\n",
    "if '/src' in os.getcwd():\n",
    "    os.chdir('..')"
   ]
  },
  {
   "cell_type": "code",
   "execution_count": 2,
   "metadata": {},
   "outputs": [],
   "source": [
    "# Load data\n",
    "xtrain, ytrain, xtest, ytest, xval, yval = util.load_preg_data(sim=True, onehots=True)\n",
    "# Create binary labels\n",
    "ytrain_early, ytrain_late, ytrain_preterm = util.preg_outcome_to_binaries(ytrain)\n",
    "ytest_early, ytest_late, ytest_preterm = util.preg_outcome_to_binaries(ytest)\n",
    "yval_early, yval_late, yval_preterm = util.preg_outcome_to_binaries(yval)"
   ]
  },
  {
   "cell_type": "markdown",
   "metadata": {},
   "source": [
    "# Logistic Regression\n",
    "\n",
    "## Train"
   ]
  },
  {
   "cell_type": "code",
   "execution_count": 3,
   "metadata": {},
   "outputs": [
    {
     "name": "stderr",
     "output_type": "stream",
     "text": [
      "/home/cove/Documents/S2021/cpsc464/fair-child/venv/lib/python3.9/site-packages/sklearn/linear_model/_logistic.py:763: ConvergenceWarning: lbfgs failed to converge (status=1):\n",
      "STOP: TOTAL NO. of ITERATIONS REACHED LIMIT.\n",
      "\n",
      "Increase the number of iterations (max_iter) or scale the data as shown in:\n",
      "    https://scikit-learn.org/stable/modules/preprocessing.html\n",
      "Please also refer to the documentation for alternative solver options:\n",
      "    https://scikit-learn.org/stable/modules/linear_model.html#logistic-regression\n",
      "  n_iter_i = _check_optimize_result(\n"
     ]
    }
   ],
   "source": [
    "lr_preterm = models.build_logreg()\n",
    "models.fit_logreg(lr_preterm, xtrain, ytrain_preterm)\n",
    "models.save_pickle(lr_preterm, 'models/lr_preterm')"
   ]
  },
  {
   "cell_type": "code",
   "execution_count": 4,
   "metadata": {},
   "outputs": [
    {
     "name": "stdout",
     "output_type": "stream",
     "text": [
      "0.9695571955719557\n",
      "              precision    recall  f1-score   support\n",
      "\n",
      "           0     0.9646    0.9737    0.9691       532\n",
      "           1     0.9744    0.9656    0.9700       552\n",
      "\n",
      "    accuracy                         0.9696      1084\n",
      "   macro avg     0.9695    0.9696    0.9696      1084\n",
      "weighted avg     0.9696    0.9696    0.9696      1084\n",
      "\n"
     ]
    }
   ],
   "source": [
    "# Example load and evaluate\n",
    "del lr_preterm\n",
    "lr_preterm = models.load_pickle('models/lr_preterm')\n",
    "print(lr_preterm.score(xtest, ytest_preterm))\n",
    "print(sklearn.metrics.classification_report(ytest_preterm, lr_preterm.predict(xtest), digits=4))"
   ]
  },
  {
   "cell_type": "markdown",
   "metadata": {},
   "source": [
    "# Gradient Boosting"
   ]
  },
  {
   "cell_type": "code",
   "execution_count": 5,
   "metadata": {},
   "outputs": [
    {
     "name": "stdout",
     "output_type": "stream",
     "text": [
      "[100]\tvalid_0's auc: 0.995474\tvalid_0's binary_logloss: 0.610603\n",
      "[200]\tvalid_0's auc: 0.995474\tvalid_0's binary_logloss: 0.542087\n",
      "[300]\tvalid_0's auc: 0.995474\tvalid_0's binary_logloss: 0.484359\n",
      "[400]\tvalid_0's auc: 0.995474\tvalid_0's binary_logloss: 0.435218\n",
      "[500]\tvalid_0's auc: 0.995474\tvalid_0's binary_logloss: 0.39304\n",
      "[600]\tvalid_0's auc: 0.995474\tvalid_0's binary_logloss: 0.356594\n",
      "[700]\tvalid_0's auc: 0.995474\tvalid_0's binary_logloss: 0.324925\n",
      "[800]\tvalid_0's auc: 0.995474\tvalid_0's binary_logloss: 0.297276\n",
      "[900]\tvalid_0's auc: 0.995474\tvalid_0's binary_logloss: 0.273042\n",
      "[1000]\tvalid_0's auc: 0.995474\tvalid_0's binary_logloss: 0.251728\n",
      "[1100]\tvalid_0's auc: 0.995474\tvalid_0's binary_logloss: 0.232927\n",
      "[1200]\tvalid_0's auc: 0.995474\tvalid_0's binary_logloss: 0.216301\n",
      "[1300]\tvalid_0's auc: 0.995474\tvalid_0's binary_logloss: 0.201565\n",
      "[1400]\tvalid_0's auc: 0.995474\tvalid_0's binary_logloss: 0.188479\n",
      "[1500]\tvalid_0's auc: 0.998312\tvalid_0's binary_logloss: 0.175566\n",
      "[1600]\tvalid_0's auc: 0.998447\tvalid_0's binary_logloss: 0.163965\n",
      "[1700]\tvalid_0's auc: 0.998494\tvalid_0's binary_logloss: 0.153692\n",
      "[1800]\tvalid_0's auc: 0.998494\tvalid_0's binary_logloss: 0.144475\n",
      "[1900]\tvalid_0's auc: 0.998494\tvalid_0's binary_logloss: 0.136257\n",
      "[2000]\tvalid_0's auc: 0.998494\tvalid_0's binary_logloss: 0.129008\n"
     ]
    }
   ],
   "source": [
    "gb_preterm = models.build_gbdt()\n",
    "models.fit_gbdt(gb_preterm, xtrain, ytrain_preterm, xval, yval_preterm)\n",
    "models.save_pickle(gb_preterm, 'models/gb_preterm')"
   ]
  },
  {
   "cell_type": "markdown",
   "metadata": {},
   "source": [
    "# Neural nets"
   ]
  },
  {
   "cell_type": "code",
   "execution_count": 6,
   "metadata": {},
   "outputs": [
    {
     "name": "stdout",
     "output_type": "stream",
     "text": [
      "Model: \"NN_lrelu\"\n",
      "_________________________________________________________________\n",
      "Layer (type)                 Output Shape              Param #   \n",
      "=================================================================\n",
      "input_1 (InputLayer)         [(None, 32)]              0         \n",
      "_________________________________________________________________\n",
      "lrelu1 (Dense)               (None, 70)                2310      \n",
      "_________________________________________________________________\n",
      "dropout (Dropout)            (None, 70)                0         \n",
      "_________________________________________________________________\n",
      "lrelu2 (Dense)               (None, 80)                5680      \n",
      "_________________________________________________________________\n",
      "dropout_1 (Dropout)          (None, 80)                0         \n",
      "_________________________________________________________________\n",
      "output (Dense)               (None, 1)                 81        \n",
      "=================================================================\n",
      "Total params: 8,071\n",
      "Trainable params: 8,071\n",
      "Non-trainable params: 0\n",
      "_________________________________________________________________\n",
      "Training model with class weights, {0: 1.0176706827309236, 1: 0.9829325058184639}\n",
      "WARNING:tensorflow:From /home/cove/Documents/S2021/cpsc464/fair-child/venv/lib/python3.9/site-packages/tensorflow/python/ops/array_ops.py:5043: calling gather (from tensorflow.python.ops.array_ops) with validate_indices is deprecated and will be removed in a future version.\n",
      "Instructions for updating:\n",
      "The `validate_indices` argument has no effect. Indices are always validated on CPU and never validated on GPU.\n",
      "Epoch 1/20\n",
      "238/238 [==============================] - 1s 3ms/step - loss: 104.6769 - accuracy: 0.4644 - val_loss: 102.3391 - val_accuracy: 0.5088\n",
      "Epoch 2/20\n",
      "238/238 [==============================] - 0s 2ms/step - loss: 105.3858 - accuracy: 0.4726 - val_loss: 102.3391 - val_accuracy: 0.5088\n",
      "Epoch 3/20\n",
      "238/238 [==============================] - 0s 2ms/step - loss: 108.0460 - accuracy: 0.4770 - val_loss: 102.3391 - val_accuracy: 0.5088\n",
      "Epoch 4/20\n",
      "238/238 [==============================] - 1s 2ms/step - loss: 107.5832 - accuracy: 0.4819 - val_loss: 102.3391 - val_accuracy: 0.5088\n",
      "Epoch 5/20\n",
      "238/238 [==============================] - 1s 2ms/step - loss: 105.3469 - accuracy: 0.4884 - val_loss: 102.3391 - val_accuracy: 0.5088\n",
      "Epoch 6/20\n",
      "238/238 [==============================] - 1s 2ms/step - loss: 107.4857 - accuracy: 0.4846 - val_loss: 102.3391 - val_accuracy: 0.5088\n",
      "Epoch 7/20\n",
      "238/238 [==============================] - 1s 2ms/step - loss: 105.4772 - accuracy: 0.4792 - val_loss: 102.3391 - val_accuracy: 0.5088\n",
      "Epoch 8/20\n",
      "238/238 [==============================] - 1s 2ms/step - loss: 106.6718 - accuracy: 0.4789 - val_loss: 102.3391 - val_accuracy: 0.5088\n",
      "Epoch 9/20\n",
      "238/238 [==============================] - 1s 2ms/step - loss: 109.3355 - accuracy: 0.4793 - val_loss: 102.3391 - val_accuracy: 0.5088\n",
      "Epoch 10/20\n",
      "238/238 [==============================] - 1s 2ms/step - loss: 107.6937 - accuracy: 0.4768 - val_loss: 102.3391 - val_accuracy: 0.5088\n",
      "Epoch 11/20\n",
      "238/238 [==============================] - 1s 3ms/step - loss: 104.3654 - accuracy: 0.4839 - val_loss: 102.3391 - val_accuracy: 0.5088\n",
      "Epoch 12/20\n",
      "238/238 [==============================] - 1s 2ms/step - loss: 104.4732 - accuracy: 0.4807 - val_loss: 102.3391 - val_accuracy: 0.5088\n",
      "Epoch 13/20\n",
      "238/238 [==============================] - 0s 2ms/step - loss: 105.8308 - accuracy: 0.4826 - val_loss: 102.3391 - val_accuracy: 0.5088\n",
      "Epoch 14/20\n",
      "238/238 [==============================] - 1s 2ms/step - loss: 106.6318 - accuracy: 0.4818 - val_loss: 102.3391 - val_accuracy: 0.5088\n",
      "Epoch 15/20\n",
      "238/238 [==============================] - 1s 2ms/step - loss: 104.4147 - accuracy: 0.4854 - val_loss: 102.3391 - val_accuracy: 0.5088\n",
      "Epoch 16/20\n",
      "238/238 [==============================] - 1s 2ms/step - loss: 108.0622 - accuracy: 0.4838 - val_loss: 102.3391 - val_accuracy: 0.5088\n",
      "Epoch 17/20\n",
      "238/238 [==============================] - 1s 2ms/step - loss: 105.7979 - accuracy: 0.4741 - val_loss: 102.3391 - val_accuracy: 0.5088\n",
      "Epoch 18/20\n",
      "238/238 [==============================] - 1s 3ms/step - loss: 106.0481 - accuracy: 0.4818 - val_loss: 102.3391 - val_accuracy: 0.5088\n",
      "Epoch 19/20\n",
      "238/238 [==============================] - 1s 3ms/step - loss: 107.4105 - accuracy: 0.4768 - val_loss: 102.3391 - val_accuracy: 0.5088\n",
      "Epoch 20/20\n",
      "238/238 [==============================] - 1s 3ms/step - loss: 107.8778 - accuracy: 0.4801 - val_loss: 102.3391 - val_accuracy: 0.5088\n"
     ]
    },
    {
     "name": "stderr",
     "output_type": "stream",
     "text": [
      "WARNING:absl:Found untraced functions such as leaky_re_lu_layer_call_fn, leaky_re_lu_layer_call_and_return_conditional_losses, leaky_re_lu_1_layer_call_fn, leaky_re_lu_1_layer_call_and_return_conditional_losses, leaky_re_lu_layer_call_fn while saving (showing 5 of 10). These functions will not be directly callable after loading.\n"
     ]
    },
    {
     "name": "stdout",
     "output_type": "stream",
     "text": [
      "INFO:tensorflow:Assets written to: models/lrelu_preterm/assets\n"
     ]
    },
    {
     "name": "stderr",
     "output_type": "stream",
     "text": [
      "INFO:tensorflow:Assets written to: models/lrelu_preterm/assets\n"
     ]
    }
   ],
   "source": [
    "from importlib import reload\n",
    "reload(models)\n",
    "\n",
    "lrelu_preterm = models.build_NN_lrelu(input_len=xtrain.shape[1])  # Assuming xtrain is (batch_size, n_features)\n",
    "lrelu_preterm.summary()\n",
    "\n",
    "models.fit_NN_lrelu(lrelu_preterm, xtrain, ytrain_preterm, xval, yval_preterm)\n",
    "models.save_NN(lrelu_preterm, 'models/lrelu_preterm')"
   ]
  },
  {
   "cell_type": "code",
   "execution_count": 8,
   "metadata": {},
   "outputs": [
    {
     "name": "stdout",
     "output_type": "stream",
     "text": [
      "34/34 [==============================] - 0s 2ms/step - loss: 102.3702 - accuracy: 0.5092\n"
     ]
    },
    {
     "data": {
      "text/plain": "[102.37024688720703, 0.509225070476532]"
     },
     "execution_count": 8,
     "metadata": {},
     "output_type": "execute_result"
    }
   ],
   "source": [
    "del lrelu_preterm\n",
    "lrelu_preterm = models.load_NN('models/lrelu_preterm')\n",
    "lrelu_preterm.evaluate(xtest, ytest_preterm)  # Output is [loss, accuracy, auc]"
   ]
  },
  {
   "cell_type": "code",
   "execution_count": 9,
   "metadata": {},
   "outputs": [
    {
     "name": "stdout",
     "output_type": "stream",
     "text": [
      "Model: \"NN_selu\"\n",
      "_________________________________________________________________\n",
      "Layer (type)                 Output Shape              Param #   \n",
      "=================================================================\n",
      "input_2 (InputLayer)         [(None, 32)]              0         \n",
      "_________________________________________________________________\n",
      "selu1 (Dense)                (None, 32)                1056      \n",
      "_________________________________________________________________\n",
      "alpha_dropout (AlphaDropout) (None, 32)                0         \n",
      "_________________________________________________________________\n",
      "selu2 (Dense)                (None, 32)                1056      \n",
      "_________________________________________________________________\n",
      "alpha_dropout_1 (AlphaDropou (None, 32)                0         \n",
      "_________________________________________________________________\n",
      "selu3 (Dense)                (None, 32)                1056      \n",
      "_________________________________________________________________\n",
      "alpha_dropout_2 (AlphaDropou (None, 32)                0         \n",
      "_________________________________________________________________\n",
      "selu4 (Dense)                (None, 32)                1056      \n",
      "_________________________________________________________________\n",
      "alpha_dropout_3 (AlphaDropou (None, 32)                0         \n",
      "_________________________________________________________________\n",
      "output (Dense)               (None, 1)                 33        \n",
      "=================================================================\n",
      "Total params: 4,257\n",
      "Trainable params: 4,257\n",
      "Non-trainable params: 0\n",
      "_________________________________________________________________\n",
      "Training model with class weights, {0: 1.0176706827309236, 1: 0.9829325058184639}\n",
      "Epoch 1/10\n",
      "30/30 [==============================] - 2s 18ms/step - loss: 0.8199 - accuracy: 0.0000e+00 - auc: 0.5632 - val_loss: 0.5306 - val_accuracy: 0.0000e+00 - val_auc: 0.8469\n",
      "Epoch 2/10\n",
      "30/30 [==============================] - 0s 7ms/step - loss: 0.6151 - accuracy: 0.0000e+00 - auc: 0.7468 - val_loss: 0.3918 - val_accuracy: 0.0000e+00 - val_auc: 0.9252\n",
      "Epoch 3/10\n",
      "30/30 [==============================] - 0s 8ms/step - loss: 0.4969 - accuracy: 0.0000e+00 - auc: 0.8431 - val_loss: 0.3160 - val_accuracy: 0.0000e+00 - val_auc: 0.9586\n",
      "Epoch 4/10\n",
      "30/30 [==============================] - 0s 6ms/step - loss: 0.3604 - accuracy: 0.0000e+00 - auc: 0.9204 - val_loss: 0.2403 - val_accuracy: 0.0000e+00 - val_auc: 0.9774\n",
      "Epoch 5/10\n",
      "30/30 [==============================] - 0s 6ms/step - loss: 0.2922 - accuracy: 0.0000e+00 - auc: 0.9476 - val_loss: 0.1844 - val_accuracy: 0.0065 - val_auc: 0.9867\n",
      "Epoch 6/10\n",
      "30/30 [==============================] - 0s 6ms/step - loss: 0.2654 - accuracy: 0.0000e+00 - auc: 0.9574 - val_loss: 0.1620 - val_accuracy: 0.0664 - val_auc: 0.9903\n",
      "Epoch 7/10\n",
      "30/30 [==============================] - 0s 7ms/step - loss: 0.2202 - accuracy: 0.0000e+00 - auc: 0.9711 - val_loss: 0.1461 - val_accuracy: 0.1180 - val_auc: 0.9915\n",
      "Epoch 8/10\n",
      "30/30 [==============================] - 0s 7ms/step - loss: 0.1986 - accuracy: 7.4276e-05 - auc: 0.9762 - val_loss: 0.1506 - val_accuracy: 0.1355 - val_auc: 0.9920\n",
      "Epoch 9/10\n",
      "30/30 [==============================] - 0s 6ms/step - loss: 0.1961 - accuracy: 6.7175e-05 - auc: 0.9775 - val_loss: 0.1430 - val_accuracy: 0.1475 - val_auc: 0.9922\n",
      "Epoch 10/10\n",
      "30/30 [==============================] - 0s 9ms/step - loss: 0.1711 - accuracy: 6.7861e-04 - auc: 0.9824 - val_loss: 0.1285 - val_accuracy: 0.1705 - val_auc: 0.9922\n",
      "INFO:tensorflow:Assets written to: models/selu_preterm/assets\n"
     ]
    },
    {
     "name": "stderr",
     "output_type": "stream",
     "text": [
      "INFO:tensorflow:Assets written to: models/selu_preterm/assets\n"
     ]
    }
   ],
   "source": [
    "selu_preterm = models.build_NN_selu(input_len=xtrain.shape[1])  # Assuming xtrain is (batch_size, n_features)\n",
    "selu_preterm.summary()\n",
    "\n",
    "models.fit_NN_selu(selu_preterm, xtrain, ytrain_preterm, xval, yval_preterm)\n",
    "models.save_NN(selu_preterm, 'models/selu_preterm')"
   ]
  },
  {
   "cell_type": "code",
   "execution_count": 10,
   "metadata": {},
   "outputs": [
    {
     "name": "stdout",
     "output_type": "stream",
     "text": [
      "34/34 [==============================] - 1s 2ms/step - loss: 0.1202 - accuracy: 0.1559 - auc: 0.9921\n"
     ]
    },
    {
     "data": {
      "text/plain": "[0.12018220871686935, 0.15590405464172363, 0.9921338558197021]"
     },
     "execution_count": 10,
     "metadata": {},
     "output_type": "execute_result"
    }
   ],
   "source": [
    "del selu_preterm\n",
    "selu_preterm = models.load_NN('models/selu_preterm')\n",
    "selu_preterm.evaluate(xtest, ytest_preterm)  # Output is [loss, accuracy, auc]"
   ]
  }
 ],
 "metadata": {
  "kernelspec": {
   "display_name": "Python 3.9.2 64-bit ('venv')",
   "metadata": {
    "interpreter": {
     "hash": "b61fea741fbe03daed72c4da298e8e8eaab54de8e50b0bc374a5b705e2fb6e53"
    }
   },
   "name": "python3"
  },
  "language_info": {
   "codemirror_mode": {
    "name": "ipython",
    "version": 3
   },
   "file_extension": ".py",
   "mimetype": "text/x-python",
   "name": "python",
   "nbconvert_exporter": "python",
   "pygments_lexer": "ipython3",
   "version": "3.9.2"
  }
 },
 "nbformat": 4,
 "nbformat_minor": 5
}