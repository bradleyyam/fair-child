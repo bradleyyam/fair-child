{
 "cells": [
  {
   "cell_type": "code",
   "execution_count": 1,
   "metadata": {},
   "outputs": [],
   "source": [
    "import numpy as np\n",
    "import os\n",
    "import pandas as pd\n",
    "import lightgbm as lgb\n",
    "\n",
    "import util\n",
    "\n",
    "SEED = 2021\n",
    "np.random.seed(SEED)\n",
    "\n",
    "# Stay in top-level directory for consistency\n",
    "if '/src' in os.getcwd():\n",
    "    os.chdir('..')"
   ]
  },
  {
   "cell_type": "code",
   "execution_count": 2,
   "metadata": {},
   "outputs": [],
   "source": [
    "# Load data\n",
    "xtrain, ytrain, xtest, ytest, xval, yval = util.load_preg_data(sim=True, onehots=True)\n",
    "# Create binary labels\n",
    "ytrain_early, ytrain_late, ytrain_preterm = util.preg_outcome_to_binaries(ytrain)\n",
    "ytest_early, ytest_late, ytest_preterm = util.preg_outcome_to_binaries(ytest)\n",
    "yval_early, yval_late, yval_preterm = util.preg_outcome_to_binaries(yval)"
   ]
  },
  {
   "cell_type": "code",
   "execution_count": 3,
   "metadata": {},
   "outputs": [
    {
     "data": {
      "text/plain": "<lightgbm.basic.Dataset at 0x7fee99f94af0>"
     },
     "execution_count": 3,
     "metadata": {},
     "output_type": "execute_result"
    }
   ],
   "source": [
    "train_data = lgb.Dataset(xtrain, label=ytrain_early)\n",
    "validation_data = lgb.Dataset(xval, label=yval_early)\n",
    "\n",
    "# TODO set weights"
   ]
  }
 ],
 "metadata": {
  "kernelspec": {
   "display_name": "Python 3.9.2 64-bit ('venv')",
   "metadata": {
    "interpreter": {
     "hash": "b61fea741fbe03daed72c4da298e8e8eaab54de8e50b0bc374a5b705e2fb6e53"
    }
   },
   "name": "python3"
  },
  "language_info": {
   "codemirror_mode": {
    "name": "ipython",
    "version": 3
   },
   "file_extension": ".py",
   "mimetype": "text/x-python",
   "name": "python",
   "nbconvert_exporter": "python",
   "pygments_lexer": "ipython3",
   "version": "3.9.2"
  },
  "orig_nbformat": 2
 },
 "nbformat": 4,
 "nbformat_minor": 2
}